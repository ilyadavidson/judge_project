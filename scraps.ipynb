{
 "cells": [
  {
   "cell_type": "markdown",
   "metadata": {},
   "source": [
    "# Import"
   ]
  },
  {
   "cell_type": "code",
   "execution_count": 87,
   "metadata": {},
   "outputs": [
    {
     "data": {
      "text/plain": [
       "<module 'api_call' from '/Users/ilyadavidson/Stanford_Internship/judge_project/api_call.py'>"
      ]
     },
     "execution_count": 87,
     "metadata": {},
     "output_type": "execute_result"
    }
   ],
   "source": [
    "import importlib\n",
    "import data_loading   # your file, e.g. court_listener_cleaner.py\n",
    "import api_call\n",
    "importlib.reload(api_call)"
   ]
  },
  {
   "cell_type": "code",
   "execution_count": 1,
   "metadata": {},
   "outputs": [
    {
     "ename": "ModuleNotFoundError",
     "evalue": "No module named 'api_call'",
     "output_type": "error",
     "traceback": [
      "\u001b[31m---------------------------------------------------------------------------\u001b[39m",
      "\u001b[31mModuleNotFoundError\u001b[39m                       Traceback (most recent call last)",
      "\u001b[36mCell\u001b[39m\u001b[36m \u001b[39m\u001b[32mIn[1]\u001b[39m\u001b[32m, line 1\u001b[39m\n\u001b[32m----> \u001b[39m\u001b[32m1\u001b[39m \u001b[38;5;28;01mimport\u001b[39;00m\u001b[38;5;250m \u001b[39m\u001b[34;01mimportlib\u001b[39;00m,\u001b[38;5;250m \u001b[39m\u001b[34;01mapi_call\u001b[39;00m\n\u001b[32m      2\u001b[39m importlib.reload(api_call)\n\u001b[32m      3\u001b[39m \u001b[38;5;28;01mimport\u001b[39;00m\u001b[38;5;250m \u001b[39m\u001b[34;01mpandas\u001b[39;00m\u001b[38;5;250m \u001b[39m\u001b[38;5;28;01mas\u001b[39;00m\u001b[38;5;250m \u001b[39m\u001b[34;01mpd\u001b[39;00m\n",
      "\u001b[31mModuleNotFoundError\u001b[39m: No module named 'api_call'"
     ]
    }
   ],
   "source": [
    "import importlib, api_call\n",
    "importlib.reload(api_call)\n",
    "import pandas as pd\n",
    "from data_loading import build_cap_dataset, court_listener_cleaner\n",
    "from main import judges_promoted_from_district\n",
    "from helper_functions import norm_id\n",
    "from helper_functions import plot_distributions\n",
    "from api_call import _extract_text\n",
    "from api_call import load_case_results\n",
    "import json\n",
    "import seaborn as sns\n",
    "import numpy as np\n",
    "import statsmodels.api as sm\n",
    "from api_call import system_msg, developer_msg, user_template \n",
    "from api_call import _read_batch_jsonl"
   ]
  },
  {
   "cell_type": "code",
   "execution_count": 2,
   "metadata": {},
   "outputs": [],
   "source": [
    "import pandas as pd"
   ]
  },
  {
   "cell_type": "code",
   "execution_count": 3,
   "metadata": {},
   "outputs": [],
   "source": [
    "df = pd.read_parquet(\"data/artifacts/cap/cap_dataset.parquet\")"
   ]
  },
  {
   "cell_type": "code",
   "execution_count": 14,
   "metadata": {},
   "outputs": [],
   "source": [
    "judges = pd.read_csv('data/judge_info.csv')"
   ]
  },
  {
   "cell_type": "code",
   "execution_count": 18,
   "metadata": {},
   "outputs": [
    {
     "data": {
      "text/plain": [
       "'United States District Court for the Western District of Pennsylvania'"
      ]
     },
     "execution_count": 18,
     "metadata": {},
     "output_type": "execute_result"
    }
   ],
   "source": [
    "judges[judges['last name']=='weber']['court name'].iloc[0]"
   ]
  },
  {
   "cell_type": "code",
   "execution_count": 19,
   "metadata": {},
   "outputs": [
    {
     "data": {
      "text/html": [
       "<div>\n",
       "<style scoped>\n",
       "    .dataframe tbody tr th:only-of-type {\n",
       "        vertical-align: middle;\n",
       "    }\n",
       "\n",
       "    .dataframe tbody tr th {\n",
       "        vertical-align: top;\n",
       "    }\n",
       "\n",
       "    .dataframe thead th {\n",
       "        text-align: right;\n",
       "    }\n",
       "</style>\n",
       "<table border=\"1\" class=\"dataframe\">\n",
       "  <thead>\n",
       "    <tr style=\"text-align: right;\">\n",
       "      <th></th>\n",
       "      <th>name</th>\n",
       "      <th>docket_number</th>\n",
       "      <th>decision_date</th>\n",
       "      <th>court_name</th>\n",
       "      <th>jurisdiction</th>\n",
       "      <th>cite</th>\n",
       "      <th>cites_to</th>\n",
       "      <th>judges_raw</th>\n",
       "      <th>judges_clean</th>\n",
       "      <th>judges_ids</th>\n",
       "      <th>...</th>\n",
       "      <th>opinion_author_raw</th>\n",
       "      <th>opinion_author_clean</th>\n",
       "      <th>opinion_author_id</th>\n",
       "      <th>opinion_text</th>\n",
       "      <th>unique_id</th>\n",
       "      <th>is_appellate</th>\n",
       "      <th>applt_uid</th>\n",
       "      <th>district_uid</th>\n",
       "      <th>district judge</th>\n",
       "      <th>district judge id</th>\n",
       "    </tr>\n",
       "  </thead>\n",
       "  <tbody>\n",
       "    <tr>\n",
       "      <th>10434</th>\n",
       "      <td>UNITED STATES of America, Plaintiff-Appellee, ...</td>\n",
       "      <td>Nos. 01-2060, 02-2067 and 02-2090</td>\n",
       "      <td>2003-09-29</td>\n",
       "      <td>United States Court of Appeals for the Fourth ...</td>\n",
       "      <td>U.S.</td>\n",
       "      <td>345 Federal Reporter 3d Series 262</td>\n",
       "      <td>318 United States Reports 133, 1995 WL 478635,...</td>\n",
       "      <td>Before WIDENER, NIEMEYER, and LUTTIG, Circuit ...</td>\n",
       "      <td>[widener, niemeyer, luttig]</td>\n",
       "      <td>[2574, 1766, 1443]</td>\n",
       "      <td>...</td>\n",
       "      <td>NIEMEYER, Circuit Judge.</td>\n",
       "      <td>niemeyer</td>\n",
       "      <td>1766.0</td>\n",
       "      <td>Affirmed in part, reversed in part and remande...</td>\n",
       "      <td>56270</td>\n",
       "      <td>1</td>\n",
       "      <td>56270</td>\n",
       "      <td>17457</td>\n",
       "      <td>freedman</td>\n",
       "      <td>794.0</td>\n",
       "    </tr>\n",
       "  </tbody>\n",
       "</table>\n",
       "<p>1 rows × 21 columns</p>\n",
       "</div>"
      ],
      "text/plain": [
       "                                                    name  \\\n",
       "10434  UNITED STATES of America, Plaintiff-Appellee, ...   \n",
       "\n",
       "                           docket_number decision_date  \\\n",
       "10434  Nos. 01-2060, 02-2067 and 02-2090    2003-09-29   \n",
       "\n",
       "                                              court_name jurisdiction  \\\n",
       "10434  United States Court of Appeals for the Fourth ...         U.S.   \n",
       "\n",
       "                                     cite  \\\n",
       "10434  345 Federal Reporter 3d Series 262   \n",
       "\n",
       "                                                cites_to  \\\n",
       "10434  318 United States Reports 133, 1995 WL 478635,...   \n",
       "\n",
       "                                              judges_raw  \\\n",
       "10434  Before WIDENER, NIEMEYER, and LUTTIG, Circuit ...   \n",
       "\n",
       "                      judges_clean          judges_ids  ...  \\\n",
       "10434  [widener, niemeyer, luttig]  [2574, 1766, 1443]  ...   \n",
       "\n",
       "             opinion_author_raw opinion_author_clean opinion_author_id  \\\n",
       "10434  NIEMEYER, Circuit Judge.             niemeyer            1766.0   \n",
       "\n",
       "                                            opinion_text unique_id  \\\n",
       "10434  Affirmed in part, reversed in part and remande...     56270   \n",
       "\n",
       "      is_appellate  applt_uid district_uid district judge district judge id  \n",
       "10434            1      56270        17457       freedman             794.0  \n",
       "\n",
       "[1 rows x 21 columns]"
      ]
     },
     "execution_count": 19,
     "metadata": {},
     "output_type": "execute_result"
    }
   ],
   "source": [
    "df.sample(1)"
   ]
  },
  {
   "cell_type": "code",
   "execution_count": 23,
   "metadata": {},
   "outputs": [
    {
     "data": {
      "text/plain": [
       "'Affirmed in part, reversed in part and remanded by published opinion. Judge NIEMEYER wrote the opinion, in which Judge WIDENER joined. Judge LUTTIG wrote an opinion concurring in part and concurring in the judgment in part.\\nOPINION\\nNIEMEYER, Circuit Judge.\\nFollowing the conviction of Charles McHan, Sr. for drug-trafficking and related offenses, the district court determined, pursuant to 21 U.S.C. § 853(a), that McHan was required to forfeit to the United States approximately $1.5 million in proceeds obtained as a result of his criminal conduct. When McHan could not account for the whereabouts of these proceeds, the court entered, as part of McHan’s sentence, a preliminary order forfeiting “substitute property” of McHan in the form of real estate and other assets, pursuant to 21 U.S.C. § 853(p).\\nMcHan’s wife, Martha, and his two sons, John and Charles Jr., (the petitioners herein) filed a petition in Charles McHan, Sr.’s sentencing proceedings pursuant to 21 U.S.C. § 853(n), asserting an interest in much of the property listed in the preliminary order of forfeiture. After a hearing on their petition, the district court amended the preliminary order of forfeiture to release some of the substitute property and issued a final order of forfeiture with respect to the remainder.\\nOn their appeal, Martha, John, and Charles Jr. contend (1) that under the Due Process Clause they were entitled to be heard before the district court issued the preliminary order of forfeiture; (2) that the relation-back principle of § 853(c), which provides that a criminal forfeiture relates back to include property owned by the defendant at the time of the commission of the act giving rise to forfeiture, does not apply to the forfeiture of substitute property; and (3) that the district court violated the Seventh Amendment by denying their request to have the hearing of their petition conducted before a jury. They also make several challenges to determinations specific to assets that were not released from the forfeiture order. On cross-appeal, the United States contends that the district court erred in releasing certain assets from the forfeiture order.\\nFor the reasons that follow, we affirm in part, reverse in part, and remand.\\nI\\nCharles McHan, Sr. (“Charles Sr.”) was charged in a seventeen-count indictment with drug trafficking in western North Carolina between November 1984 and November 1986. Specifically, the indictment charged Charles Sr. with, among other things, a conspiracy to distribute and to possess with intent to distribute over 50 kilograms of marijuana, in violation of 21 U.S.C. §§ 841 and 846; tax evasion; and engaging in a continuing criminal enterprise with regard to marijuana distribution. Count Seventeen alleged that Charles Sr.’s interest in property enumerated both in the indictment and in several appendices incorporated therein by reference was subject to forfeiture under 21 U.S.C. § 853, a statute authorizing the in personam criminal forfeiture of property used in connection with illegal drug activities.\\nAfter pleading guilty to Counts 2-7 of the indictment, Charles Sr. was tried by a jury and convicted on Counts 1 and 8-16. Thereafter, he waived a jury trial on Count 17, the forfeiture count. Following a bench trial, the district court found that Charles Sr. received proceeds in the amount of $1,489,350 as a result of illegal marijuana sales, and, after deducting Charles Sr.’s expenses incurred to obtain those proceeds and a co-conspirator’s share of the proceeds, the court ordered forfeiture to the United States of $395,670. On appeal, we affirmed Charles Sr.’s convictions but ruled, with respect to the forfeiture, that the district court should have forfeited the gross proceeds, not the net profits, from the illegal activities. United States v. McHan, 101 F.3d 1027 (4th Cir.1996).\\nOn remand, the government moved for a preliminary order of forfeiture of substitute property because Charles Sr. had “refused to give credible information concerning the disposition” of the $1,489,350. The district court granted the government’s motion, “subject to any third-party interests therein.” Charles Sr. and the three petitioners then objected to the preliminary order of forfeiture, arguing that most of the substitute property in fact belonged to Martha, Charles Jr., and John because Charles Sr. had conveyed the property to them. The district court ruled that this objection was out of order because the petitioners’ interests were adequately protected by 21 U.S.C. § 853(n). Martha, Charles Jr., and John then filed a petition under § 853(n) for a “Hearing to Adjudicate the Validity of [Their] Interest in Property Preliminarily Ordered Forfeited.” In their petition, the petitioners argued (1) that a forfeiture of substitute property does not “relate back” to include property owned by the defendant at the time of the commission of the offense giving rise to forfeiture; (2) that much of the property was actually vested in Martha at the time of Charles Sr.’s criminal conduct pursuant to a 1981 written agreement between Martha and Charles Sr. (“the 1981 Agreement”); and (3) that, in any event, the petitioners obtained title to the property as bona fide purchasers for value by virtue of a series of three agreements entered into between Charles Sr. and Martha, dated July 1, 1988. The petitioners also requested that a jury find the facts on their petition.\\nThe district court denied the petitioners’ request for a jury and conducted a hearing, taking testimony from several witnesses. Following the hearing, the court concluded (1) that the substitute property eligible for forfeiture related back to include property owned by Charles Sr. at the time of the criminal acts giving rise to the forfeiture; (2) that Martha failed to prove by a preponderance of the evidence that the 1981 Agreement “provided her with a vested property interest that was superior to [Charles Sr.’s] at the time of the acts which gave rise to the forfeiture of [Charles Sr.’s] property” under § 853(n)(6)(A); and (3) that the transfers of property to the petitioners pursuant to the agreements dated July 1, 1988 were not arm’s-length transactions and thus petitioners were not bona fide purchasers for value entitled to the property under § 853(n)(6)(B). The district court also made several specific rulings as to particular property sought to be forfeited. Following modifications to its decision made in response to the parties’ motions for reconsideration, the court entered a final order of forfeiture on September 10, 2002.\\nThe petitioners appeal from the final order of forfeiture, contending (1) that the district court erred in denying them an opportunity to be heard prior to the issuance of the preliminary order of forfeiture; (2) that forfeiture of substitute property does not relate back to the time of the commission of the acts that gave rise to forfeiture; and (3) that they were entitled to have a jury find the facts at the hearing on their petition to determine the validity of their interests in the property. In addition, the petitioners make several challenges to determinations made with respect to the forfeitability of specific assets. On cross-appeal, the government likewise challenges rulings on the forfeitability of several specific assets.\\nII\\nThe criminal forfeiture statute at issue in this case, 21 U.S.C. § 853, was enacted by Congress as part of the Criminal Forfeiture Act of 1984, an amendment to the Comprehensive Drug Abuse Prevention and Control Act of 1970. See Pub.L. 98-473, § 303, 98 Stat.2044. Prior to the enactment of § 853, criminal forfeiture had to be obtained under either the Racketeer Influenced and Corrupt Organizations (RICO) statute, 18 U.S.C. § 1961 et seq., or the Continuing Criminal Enterprise (CCE) statute, 21 U.S.C. § 848. S.Rep. No. 98-225, at 193 (1984), reprinted in 1984 U.S.C.C.A.N. 3182, 3376. There was no specific criminal forfeiture statute for drug trafficking. In practice, prosecutors seeking forfeiture of drug-trafficking assets relied primarily on an in rem civil forfeiture procedure, which Congress found particularly inefficient because the civil forfeiture procedure required the government to file separate suits in every judicial district in which the criminal defendant’s property was located. Id. at 196-97, reprinted in 1984 U.S.C.C.A.N. at 3379-80. Moreover, even when the criminal forfeiture provisions of the RICO and CCE statutes were applicable, they did not provide means by which the government could forfeit property that a criminal defendant disposed of in anticipation of the criminal proceedings. Id. at 195, reprinted in 1984 U.S.C.C.A.N. at 3378. Thus, when Congress enacted the Criminal Forfeiture Act of 1984, it both amended RICO’s criminal forfeiture procedure to address its deficiencies and created 21 U.S.C. § 853, which “is, in nearly all respects, identical to the RICO criminal forfeiture statute as amended,” but “applicable in all felony drug cases.” Id. at 198, 209, 198, reprinted in 1984 U.S.C.C.A.N. at 3381, 3392.\\nSection 853(a) provides that “[a]ny person convicted of a violation of this sub-chapter [Control and Enforcement] or sub-chapter II [Import and Export] of this chapter [Drug Abuse Prevention and Control] ... shall forfeit to the United States”:\\n(1) any property constituting, or derived from, any proceeds the person obtained, directly or indirectly, as the result of such violation;\\n(2) any of the person’s property used, or intended to be used, in any manner or part, to commit, or to facilitate the commission of, such violation; and\\n(3) in the case of a person convicted of engaging in a continuing criminal enterprise in violation of section 848 of this title, the person shall forfeit, in addition to any property described in paragraph (1) or (2), any of his interest in, claims against, and property or contractual rights affording a source of control over, the continuing criminal enterprise.\\nThe forfeiture of such property is effected — vesting the property’s title in the United States — “upon the commission of the act giving rise to forfeiture under this section.” 21 U.S.C. § 853(c). This “relation back” principle in § 853(c) “prevent[s] defendants from escaping the impact of forfeiture by transferring assets to third parties.” United States v. Reckmeyer, 836 F.2d 200, 203 (4th Cir.1987).\\nSection 853(d) creates a rebuttable presumption that any property of a person convicted of a felony drug offense is subject to forfeiture if the government establishes by a preponderance of the evidence that (1) such property was acquired by the defendant during the time period of the violation or a reasonable time thereafter and (2) there was no likely source for the property other than the violation. If any of the forfeitable property cannot be located by the government, has been transferred or sold to a third party, is beyond the court’s jurisdiction, or has been diminished in value or commingled beyond easy divisibility, the court must, pursuant to § 853(p), order the forfeiture of “substitute property” of the defendant up to the value of the forfeitable property.\\nTo protect the property interests of third parties, § 853(n) provides a process for the vindication of those interests. After entry of a forfeiture order, the United States is required to “publish notice of the order and of its intent to dispose of the property” (and it also may directly contact those it knows to have alleged an interest in the property). 21 U.S.C. § 853(n)(l). Within 30 days of receiving notice, “[a]ny person, other than the defendant, asserting a legal interest” in the property may “petition the court for a hearing to adjudicate the validity of his alleged interest in the property.” Id. § 853(n)(2). The petition must be signed by the petitioner and must set forth the nature and extent of the petitioner’s property interest. Id. § 853(n)(3). “[T]o the extent practicable and consistent with the interests of justice,” the court is directed to hold a hearing “within thirty days of the filing of the petition.” Id. § 853(n)(4). At the hearing, the petitioners and the government may present witnesses and other evidence and may cross-examine the witnesses. Id. § 853(n)(5). Finally, if, after the hearing, “the court determines that the petitioner has established by a preponderance of the evidence” that (1) he had a vested interest in the property or an interest superior to that of the defendant at the time of the commission of the acts giving rise to forfeiture, or (2) he was a “bona fide purchaser for value” of the property “and was at the time of purchase reasonably without cause to believe that the property was subject to forfeiture,” the court is directed to “amend the order of forfeiture in accordance with its determination.” Id. § 853(n)(6). Following the court’s disposition of all petitions filed by third parties, the order of forfeiture, as amended as a result of the disposition of all petitions, gives the United States “clear title to property that is the subject of the order of forfeiture.” Id. § 853(n)(7).\\nThe petition authorized by § 85S(n) is the exclusive avenue through which a third party may protect his interest in property that has been subject to a forfeiture order. Section 853(k) prohibits any person “claiming an interest in property subject to forfeiture” from (1) intervening in the trial or appeal of a criminal case involving forfeiture of such property or (2) commencing an action at law or equity against the United States concerning the validity of the third party’s alleged interest in the property.\\nThis is the statutory scheme that the petitioners in this case challenge in several respects.\\nIll\\nFor their first assignment of error, the petitioners contend that they should have been given an opportunity to oppose the government’s motion for the preliminary order of forfeiture and the evidentiary basis thereof. They argue that the Due Process Clause of the Fifth Amendment “required that they receive notice of the government’s motion seeking the entry of the [preliminary order of forfeiture] and an opportunity to be heard before — or at least soon after- — the entry of a [preliminary order of forfeiture] that would seriously impair their property rights.” They assert that if they were given an opportunity to oppose the government’s motion for a preliminary order of forfeiture, they could have “pointed out that many of the properties listed in the Order [of forfeiture] were not owned at all or not wholly owned by Charles, Sr. at the time of his arrest or subsequent thereto.”\\nThe petitioners’ argument misconstrues the nature of the forfeiture proceeding and their appropriate role in it. The petitioners were not defendants in the criminal trial; Charles McHan, Sr. was the defendant, and it was he who forfeited his property under 21 U.S.C. § 853. Of course, Charles Sr. had the opportunity at trial to oppose forfeiture before the preliminary order of forfeiture was entered as part of his sentence. See 21 U.S.C. § 853(a); Libretti v. United States, 516 U.S. 29, 39, 116 S.Ct. 356, 133 L.Ed.2d 271 (1995) (holding that § 853 is a sentencing statute, applied “following conviction ... as punishment for the commission of various drug ... crimes” and noting that § 853 imposes forfeiture “in addition to any other sentence ”) (emphasis in original). But the statute provides that, until this sentence of forfeiture is entered, no party claiming an interest in the forfeited property may intervene in the criminal case. See 21 U.S.C. § 853(k); see also Libretti, 516 U.S. at 44, 116 S.Ct. 356 (reaffirming that a § 853(n) proceeding is the “only ... means” by which a third party may safeguard his rights in property ordered forfeited under § 853, even where the complaint is that the forfeiture itself was unsupported by factual evidence). Only after the sentence is entered by an order of forfeiture and notice is given to the public may any person assert an interest in forfeited property by filing a petition pursuant to § 853(n). See 21 U.S.C. § 853(n). Then after the petitions of third parties are resolved, a final order of forfeiture is entered. See id § 853(n)(6), (7).\\nBecause the district court followed this procedure, the petitioners’ challenge under the Due Process Clause must be a challenge to the statutory scheme. In essence, the petitioners are arguing that due process required that they, as third parties, be given an opportunity to interject themselves into the sentencing phase of the criminal case against Charles Sr. because his sentence had the potential to affect their property interests. But they have no support for the proposition. See Libretti 516 U.S. 29, 116 S.Ct. 356, 133 L.Ed.2d 271, 116 S.Ct. 356; United States v. Reckmeyer, 836 F.2d at 203. In Libretti, the Supreme Court rejected the defendant’s argument that a § 853(n) proceeding inadequately protected third parties’ interests. The Court emphasized that “Congress has determined that § 853(n) ... provides the means by which third-party rights must be vindicated.” 516 U.S. at 44, 116 S.Ct. 356. And in Reck-meyer, while we acknowledged that “serious due process concerns would be raised ... if third parties asserting an interest in forfeited assets were barred from challenging the validity of the forfeiture,” 836 F.2d at 206, we went on to hold that § 853(n) is “a means by which third persons who raise challenges to the validity of the forfeiture order could have their claims adjudicated,” id. at 208; see also id. at 207 (reading § 853(n) to allow challenges to the validity of the forfeiture to avoid any “possible constitutional infirmity”). As we noted, Congress was particularly aware that, unlike in a civil forfeiture case where “all parties with an interest in [the] civilly forfeitable property may participate in judicial forfeiture proceedings,” “third parties with interests in criminally forfeitable property may not participate in the criminal trial.” Id. at 207 (quoting S.Rep. No. 98-225, at 207-08, reprinted in 1984 U.S.C.C.A.N. at 3390-91 (“discussing 18 U.S.C. § 1963(1), a provision of the RICO statute that is identical to § 853(n)”)). We concluded that it was Congress’ clear intention in passing § 853(n) that third parties have an opportunity to be heard and to be awarded relief if they were to show a cognizable interest in the property preliminarily ordered forfeited. Id. at 208.\\nThe Supreme Court’s rejection in Li-bretti of challenges similar to those made by petitioners in this case and our holding in Reckmeyer require us to reject petitioners’ claims that the statutory scheme denies them due process. Indeed, § 853(n) provides all of the process due. It requires that the petitioners receive notice of the order of forfeiture before its final implementation; that they be given a hearing; that they be allowed to present witnesses and evidence; and that they be permitted to cross-examine any witnesses who appear at the hearing. Due process does not require more. See Mathews v. Eldridge, 424 U.S. 319, 333, 96 S.Ct. 893, 47 L.Ed.2d 18 (1976) (“The fundamental requirement of due process is the opportunity to be heard at a meaningful time and in a meaningful manner”) (internal quotation marks omitted).\\nIV\\nThe petitioners also contend that the district court erred in construing the forfeiture statute to provide that the forfeiture of “substitute property” under 21 U.S.C. § 853(p) “relates back” to the time of the commission of the acts giving rise to the forfeiture. They assert that the relation-back principle of § 853(c) applies only to the “tainted” property described in § 853(a) and not to “innocent” substitute property described in § 853(p). Based on this argument, they state that, when asserting a forfeiture interest in substitute property, the government can look only to property owned by Charles Sr. “at the time the criminal forfeiture judgment [was] entered,” rather than at the time of the commission of the act giving rise to the forfeiture.\\nTo support their position, the petitioners advance two arguments. First, they contend that § 853(c) “expressly” limits the relation-back principle to the “tainted assets” described in § 853(a). Second, they contend that as a matter of policy, if the relation-back principle applied to substitute property, “innocent transferees of substitute assets [would] have no way to protect themselves from the government’s unforeseeable future legal claim to the substitute assets.” As an alternative to their argument that the relation-back principle should be limited to the date of the criminal forfeiture judgment when substitute property is forfeited, they argue that “common sense and sound policy reasons dictate that the forfeiture should relate back no further than the date of the indictment.” In suggesting this alternative date, the petitioners place great weight on a Department of Justice legislative proposal that recognized the ambiguity surrounding the applicability of the § 853(c) relation-back principle to substitute property and that recommended an amendment to the statute providing that substitute asset forfeitures relate back to the date of the indictment.\\nTo address the petitioners’ first argument, we note that the express language of § 853(c), contrary to what the petitioners claim, does not preclude the application of the relation-back principle to substitute property. Section 853(c) states that “[a]ll right, title, and interest in property described in subsection (a) of this section vests in the United States upon the commission of the act giving rise to forfeiture under this section.” 21 U.S.C. § 853(c). While it is clear that all the property described in § 853(a) — property tainted by its relationship to criminal conduct — is forfeited to the United States at the time of the criminal conduct giving rise to forfeiture, this does not preclude application of the relation-back principle to substitute property. Indeed, the language of § 853(p) suggests otherwise, stating, “If any of the [tainted] property described in subsection (a) of this section ... [has been placed beyond the reach of a forfeiture] ... the court shall order the forfeiture of any other property of the defendant up to the value of [the tainted] property” that is unavailable for forfeiture. Id. § 853(p). This section thus seems to equate substitute property with tainted property when the tainted property has been placed beyond the reach of a forfeiture in that it (1) cannot be located, (2) has been transferred to a third party, (3) has been placed beyond the jurisdiction of the court, (4) has been substantially diminished in value, or (5) has been commingled with other property so that it cannot be divided without difficulty. See id.\\nBut any doubt about this construction should be eliminated by the statutory instruction to construe the statute liberally “to effectuate its remedial purposes.” 21 U.S.C. § 853(o). The remedial purpose of both the relation-back provision and the substitute property provision is to thwart the defendant’s efforts to avoid the impact of a criminal forfeiture.\\nWhen Congress enacted 21 U.S.C. § 853 as part of the Criminal Forfeiture Act of 1984, it included the substitute asset provision to “address[ ] one of the most serious impediments to significant criminal forfeitures,” i.e., that “a defendant may succeed in avoiding the forfeiture sanction simply by transferring his assets to another, placing them beyond the jurisdiction of the court, or taking other actions to render his forfeitable property unavailable at the time of conviction.” S.Rep. No. 98-225, at 201, 212, reprinted in 1984 U.S.C.C.A.N. at 3384, 3395 (discussing the shared purpose of the substitute property provisions of 21 U.S.C. § 853 and 18 U.S.C. § 1963 (the analogous RICO statute)). Describing this problem in substantial detail, Congress noted:\\nUnlike civil forfeitures, in which the government’s seizure of the asset occurs at or soon after the commencement of the forfeiture action, in criminal forfeitures, the assets generally remain in the custody of the defendant until the time of his conviction for the offense upon which the forfeiture is based. Only after conviction does the government seize the asset. Thus, a person who anticipates that some of his property may be subject to criminal forfeiture has not only an obvious incentive, but also ample opportunity, to transfer his assets or remove them from the jurisdiction of the court prior to trial and so shield them from any possibility of forfeiture.... The important economic impact of imposing the sanction of forfeiture against the defendant is thus lost.\\nId. at 195, reprinted in 1984 U.S.C.C.A.N. at 3878. It is thus apparent that the remedial purpose of § 853 generally and § 853(p) in particular was to thwart efforts by a defendant to circumvent the economic impact of an anticipated criminal forfeiture sentence.\\nGiven that the purpose of the relation-back provision in § 853(c) was to “prevent defendants from escaping the impact of forfeiture by transferring assets to third parties,” Reckmeyer, 836 F.2d at 203, and the purpose of § 853(p) was similarly to address this very “impediment[ ] to significant criminal forfeitures,” S.Rep. No. 98-225, at 201, reprinted in 1984 U.S.C.C.A.N. at 3384, the substitute property that is subject to forfeiture under § 853(p) must be read to include all property of the defendant at the time of the commission of the acts giving rise to the forfeiture. See United States v. Phillips, 185 F.3d 183, 188 (4th Cir.1999) (holding that all right, title, and interest in the substitute property that the defendant transferred to a third party on the eve of conviction “vested in the United States upon the commission of the act giving rise to the forfeiture” (citing 21 U.S.C. § 853(c))); In re Billman, 915 F.2d 916, 921 (4th Cir.1990) (interpreting the analogous RICO criminal forfeiture statute and holding that “a defendant [cannot] thwart the operation of forfeiture laws by absconding with RICO proceeds and then transferring his substitute assets to a third person who does not qualify as a bona fide purchaser for value”). To conclude otherwise would invite defendants who anticipate conviction for their unlawful drug-trafficking activities to undertake the obvious step of transferring their assets or removing them from the court’s reach pri- or to indictment and conviction, thereby circumventing the important economic impact of forfeiture.\\nIn support of their position, the petitioners make the policy argument that our interpretation would leave innocent transferees of substitute assets with “no way to protect themselves from the government’s unforeseeable future legal claim to the substitute assets.” But this argument fails to take into account the provisions of the statute that explicitly protect innocent transferees. A bona fide purchaser for value of the defendant’s property who was at the time of transfer “reasonably without cause to believe that the [defendant’s] property was subject to forfeiture,” 21 U.S.C. § 853(n)(6)(B), is given the right to file a § 853(n) petition to have such substitute property removed from the forfeiture order, id. § 853(n)(2) (allowing any person asserting a legal interest in property forfeited “pursuant to this section” to file a petition).\\nAccordingly, we conclude that the forfeiture of substitute property pursuant to 21 U.S.C. § 853(p) relates back to the date of the acts giving rise to the forfeiture under 21 U.S.C. § 853.\\nV\\nThe petitioners next contend that their third-party petition filed under 21 U.S.C. § 853(n) in the criminal forfeiture judgment in this case initiated a proceeding to which the Seventh Amendment right to jury trial attaches. Therefore, they contend that the district court erred in denying their request for a jury trial. Because the statute itself provides that the hearing on the petitioners’ petition “shall be held before the court alone, without a jury,” 21 U.S.C. § 853(n)(2), the petitioners, in making this argument, are challenging the constitutionality of the statutory requirement that the hearing be conducted by the court without a jury.\\nThe Seventh Amendment provides:\\nIn Suits at common law, where the value in controversy shall exceed twenty dollars, the right of trial by jury shall be preserved, and no fact tried by a jury, shall be otherwise reexamined in any Court of the United States, than according to the rules of the common law.\\nU.S. Const, amend. VII. The phrase “Suits at common law” has “been construed to refer to cases tried prior to the adoption of the Seventh Amendment in courts of law in which jury trial was customary as distinguished from courts of equity or admiralty in which jury trial was not.” Atlas Roofing Co. v. Occupational Safety & Health Rev. Comm’n, 430 U.S. 442, 449, 97 S.Ct. 1261, 51 L.Ed.2d 464 (1977). Accordingly, both parties agree that the Seventh Amendment right to jury trial exists only for actions of the sort enforced at common law when the Bill of Rights was ratified in 1791. See Curtis v. Loether, 415 U.S. 189, 193, 94 S.Ct. 1005, 39 L.Ed.2d 260 (1974); see also 8 James Wm. Moore et al., Moore’s Fed. Practice ¶ 38.10[2][b] (3d ed. 2003) (“If the issue, in its modern context, is such that it would have been heard at common law in 1791, then it is triable by a jury as of right, and that right is constitutionally protected”).\\nIn considering whether a jury trial must be provided in a proceeding created by statute, “the question comes down to whether, where the legislature has created an action unheard of at common law, the rights and remedies involved are of the sort traditionally enforced in an action at common law.” United States v. Dudley, 739 F.2d 175, 179 (4th Cir.1984). Elaborating the analytical framework for determining whether a Seventh Amendment jury trial attaches to a proceeding created by congressional enactment, the Supreme Court in Tull v. United States, 481 U.S. 412, 417-18, 107 S.Ct. 1831, 95 L.Ed.2d 365 (1987), stated:\\nFirst, we compare the statutory action to 18th-century actions brought in the courts of England prior to the merger of the courts of law and equity. Second, we examine the remedy sought and determine whether it is legal or equitable in nature.\\n(Internal citations omitted.) The task of identifying the nearest eighteenth-century analog to a modern statutory cause of action often invites unsatisfying comparisons to distinguishable actions existing at common law in the eighteenth century. Recognizing this, the Supreme Court has stated:\\nWe need not rest our conclusion on what has been called an “abstruse historical” search for the nearest 18th-century analog. We reiterate our previously expressed view that characterizing the relief sought is “[m]ore important” than finding a precisely analogous common-law cause of action in determining whether the Seventh Amendment guarantees a jury trial.\\nId. at 421, 107 S.Ct. 1831 (citations omitted); see also Chauffeurs, Teamsters & Helpers Local No. 391 v. Terry, 494 U.S. 558, 565, 110 S.Ct. 1339, 108 L.Ed.2d 519 (1990) (“The second inquiry” — examining the remedy sought to determine whether it is legal or equitable in nature — “is the more important in our analysis”).\\nIn this case, the petitioners filed their petition pursuant to 21 U.S.C. § 853(n), and a § 853(n) petition commences a hearing ancillary to sentencing in an existing criminal action. The criminal proceeding here was the jury trial of the several counts charged in the indictment against Charles McHan, Sr. As in all criminal proceedings where a jury is not waived, a jury acts as the factfinder and makes the determination whether the defendant is criminally liable. In this case, Charles Sr. was convicted by a jury on, or pled guilty to, all of the criminal acts giving rise to the forfeiture. And on the criminal forfeiture count itself, for which Charles Sr. was entitled to a jury trial, see Fed.R.Crim.P. 32.2(b)(4), he waived the right to have a jury make the relevant factual determination of the nexus between the property and the criminal offenses committed, submitting to a bench trial. Once the court at the bench trial determined the relevant facts on the forfeiture count, it proceeded to enter a forfeiture order as part of Charles Sr.’s sentence. The applicable statute so provides:\\nThe court, in imposing sentence on such person, shall order, in addition to any other sentence imposed pursuant to this subchapter or subchapter II of this chapter, that the person forfeit to the United States all property described in this subsection.\\n21 U.S.C. § 853(a); see also Libretti, 516 U.S. at 39,116 S.Ct. 356 (noting that under 21 U.S.C. § 853(a) forfeiture is imposed “in addition to any other sentence ”). The remaining provisions of § 853 address the process of implementing the sentence of a forfeiture, including its execution. See also Fed.R.Crim.P. 32.2.\\nAs relevant to this case, § 853(c) provides that any of the defendant’s property that is subject to forfeiture on account of the defendant’s conviction of a drug offense cannot escape forfeiture simply because the defendant transfers the forfeited property to a third party:\\nAll right, title, and interest in property described in subsection (a) of this section vests in the United States upon the commission of the act giving rise to forfeiture under this section. Any such property that is subsequently transferred to a person other than the defendant may be the subject of a special verdict of forfeiture and thereafter shall be ordered forfeited to the United States.\\n21 U.S.C. § 853(c) (emphasis added). That same subsection authorizes a third party wishing to challenge the forfeiture of property transferred to him to file a petition ancillary to the sentencing proceeding to establish, at a hearing, that “he is a bona fide purchaser for value of such property who at the time of purchase was reasonably without cause to believe that the property was subject to forfeiture under this section.” Id. The procedures governing the third-party challenge to a forfeiture order are contained in § 853(n).\\nThis entire process, however, involves the implementation of the sentence of forfeiture. Because sentencing is distinct from the criminal liability phase of trial, any factfinding at sentencing, as well as in proceedings ancillary to sentencing, is conducted by the court, not a jury. See Libretti, 516 U.S. at 49, 116 S.Ct. 356 (“Our cases have made abundantly clear that a defendant does not enjoy a constitutional right to a jury determination as to the appropriate sentence to be imposed”); see also Harris v. United States, 536 U.S. 545, 549-50, 122 S.Ct. 2406, 153 L.Ed.2d 524 (2002) (“[T]hough [the sentencing] facts may have a substantial impact on the sentence, they are not elements, and are thus not subject to the Constitution’s indictment, jury, and proof requirements”). And this is what the statute explicitly provides. See 21 U.S.C. § 853(n)(2) (“The hearing [on the third party’s petition] shall be held before the court alone, without a jury”). There is simply no jury trial right in criminal sentencings nor, by extension, in proceedings ancillary to criminal sen-tencings.\\nEven if the third-party hearing ancillary to the defendant’s sentencing proceeding were to be analogized to an independent action, as petitioners have attempted to do, it would be most analogous to an equitable petition to quiet title to the forfeited property for which no jury was traditionally available. Section 853 describes the petition as one to “adjudicate the validity of the [third party’s] alleged interest in the [forfeited] property,” 21 U.S.C. § 853(n)(2), and the only remedy available is an order to “amend the order of forfeiture” to exclude the third party’s interests from the sentence of forfeiture based on a superior property interest, id. § 853(n)(6). The statute provides that after the court disposes of the petition to determine the validity of title, “the United States shall have clear title to property that is the subject of the [resulting] order of forfeiture,” in this case, the order against Charles Sr. The proceeding at bottom becomes a competition over ownership priority with the court determining the superior title.\\nLike a § 853(n) proceeding, the purpose of a quiet title action is “to determine which named party has superior claim to a certain piece of property.” Cadorette v. United States, 988 F.2d 215, 223 (1st Cir.1993). And although there are, to be sure, differences between a quiet title action and a § 853(n) proceeding, the relief offered to a complainant in a quiet title action is substantially the same relief offered to a § 853(n) petitioner. See Tull, 481 U.S. at 417, 107 S.Ct. 1831 (emphasizing that “characterizing the relief sought is ‘[m]ore important than finding a precisely analogous common-law cause of action’ ”) (internal citation omitted); see also United States v. Gilbert, 244 F.3d 888, 911 (11th Cir.2001) (holding that an ancillary hearing to litigate a third party’s interest in property forfeited under the analogous RICO forfeiture statute is “essentially a quiet title proceeding”). And neither action could lead to any compensatory damage award. See Monterey v. Del Monte Dunes at Monterey, Ltd., 526 U.S. 687, 710, 119 S.Ct. 1624, 143 L.Ed.2d 882 (1999) (noting the “ ‘general rule’ that monetary relief is legal” and emphasizing the distinction between compensatory legal relief and equitable restitution and other monetary remedies available in equity); Teamsters, 494 U.S. at 570, 110 S.Ct. 1339 (noting that “[generally, an action for money damages was ‘the traditional form of relief offered in the courts of law5 ”) (citation omitted). Rather, claims for the type of relief offered by a quiet title suit have always been equitable actions, brought in the courts of equity rather than courts of law. See, e.g., Arndt v. Griggs, 134 U.S. 316, 320, 10 S.Ct. 557, 33 L.Ed. 918 (1890) (stating that the proposition that “an action to quiet title is a suit in equity” is “doubtless correct”); Humble Oil & Refining Co. v. Sun Oil Co., 191 F.2d 705, 718 (5th Cir.1951) (“A suit to quiet title is a purely equitable proceeding, and a federal court is not required to resort to a jury, nor could it do so except for advice, although the cause was carried to the federal court from a state court in a state granting the right to jury trials in such cases”); Harlan v. Sparks, 125 F.2d 502, 507 (10th Cir.1942) (noting that the complainant’s suit to quiet title was “essentially one in equity” and concluding, therefore, that the district court “properly denied the demand for trial by jury” under the Seventh Amendment); see also United States v. Henry, No. 94-6188, 64 F.3d 664, 1995 WL 478635 (6th Cir. Aug. 10, 1995) (unpublished) (holding that a Seventh Amendment right to a jury trial does not attach to an ancillary third-party proceeding under 21 U.S.C. § 853(n)).\\nThe petitioners argue that a third-party hearing under § 853(n) is more analogous to an independent in rem civil forfeiture action directed against them, for which a jury trial has been afforded. See C.J. Hendry Co. v. Moore, 318 U.S. 133, 153, 63 S.Ct. 499, 87 L.Ed. 663 (1943). But this argument fails on several grounds. First, neither the criminal forfeiture action — in this case against Charles Sr. — nor the third-party proceeding to determine the validity of the petitioners’ interests under § 853(n) was in rem. The criminal proceeding was in personam against Charles Sr., and the hearing to determine the validity of the petitioners’ property interest was also in personam. Cf. Cadorette, 988 F.2d at 223 (noting that an equitable action to quiet title was an in personam action).\\nSecond, the forfeiture action in this case was not against the petitioners or their property, but against Charles Sr. Because the government concluded that Charles Sr. transferred forfeited property to the petitioners, the order of forfeiture against Charles Sr. was implemented against the transferred property. The government did not seek to forfeit the petitioners’ property; it alleged rather that the property in the petitioners’ hands belonged to Charles Sr. and was transferred to them after it was forfeited. Therefore, the government contended that it could reach the forfeited property as part of the sentence of forfeiture against Charles Sr. If the petitioners were successful in establishing a cognizable ownership interest in the property under § 853(n)(6), then they could have the property excluded from Charles Sr.’s sentence of forfeiture. But never has the government sought to forfeit property legally belonging to the petitioners.\\nAnd third, still assuming for purposes of the petitioners’ argument that the proceeding under § 853(n) is an independent action, we nonetheless cannot ignore that the § 853(n) hearing is ancillary to a sentencing proceeding. And as we have already noted, no jury trial attaches to the predicate sentencing proceeding. See Libretti 516 U.S. at 49, 116 S.Ct. 356.\\nFor all of these reasons, we conclude that a petition filed under 21 U.S.C. § 853(n)(2) ancillary to a forfeiture sentencing proceeding to determine the validity of a petitioner’s interest in property does not commence a proceeding for which a jury trial is afforded by the Seventh Amendment.\\nVI\\nFinally, the petitioners challenge several determinations made by the district court about the ownership of property and its inclusion in the order of forfeiture. We address these arguments seriatim.\\nA\\nFirst, Martha McHan argues that the district court clearly erred when it found that a property agreement executed by her and Charles Sr., dated December 20, 1981 (the “1981 Agreement”), did not establish her entitlement to the forfeited substitute property covered by the 1981 Agreement. She contends that the 1981 Agreement establishes, in satisfaction of § 853(n)(6)(A), that at the time of the commission of the relevant criminal acts, she was a half-owner of the property.\\nThe 1981 Agreement provides in relevant part:\\nAny personal property titled in either Charles McHan or Martha McHan shall be deemed to be equally owned by the other rejgardless of how titled.\\nCharles-W. McHan and Martha McHan shall have no rights whatsoever to any real or personal property owned or held in trust for Charles W. McHan Jr. or John D. McHan.\\nCharles W. McHan and Martha McHan sometimes take[ ] title to property as trustee. Both shall have equal ownership in this type of ownership.\\nThis contract or agreement shall be binding upon both parties and shall remain in effect unless further agreements and contracts are entered into changing the terms of such.\\nBased on substantial contextual evidence, the district court found that “the 1981 agreement was likely created by the Defendant [Charles Sr.] in order to avoid forfeiture and long after 1981 (Defendant’s testimony contra is not credible).” The court also found that because “the record in this particular case ... is replete with evidence that Defendant [Charles Sr.] falsified real estate records and transactions [and] engaged in money laundering and bank fraud, ... the 1981 agreement is entitled to little weight.”\\nThe record in this case amply supports the district court’s conclusion. The 1981 Agreement was just one of a sea of fraudulent documents uncovered. We find no clear error in the determinations made by the district court’s in concluding that Martha failed to prove by a preponderance of the evidence that she had a title or interest in the properties covered by the “1981 Agreement” that was superior to Charles Sr.’s title or interest at the time of his criminal conduct.\\nB\\nThe petitioners also contend that “property acquired by them both directly and indirectly by way of a series of three agreements, all dated July 1, 1988, between [Charles Sr.] and Martha McHan is not subject to forfeiture pursuant to § 853(n)(6)(B) because they are bona fide purchasers for value of the property and were reasonably without cause to believe that it was subject to forfeiture.” The government contends that the record supports that the petitioners did not meet their burden under § 853(n)(6)(B) in two respects: The petitioners failed to show that any transfers of property were for value, and they failed to demonstrate that they were without knowledge of the forfeiture.\\nThe district court found that the petitioners were not “bona fide purchasers for value” because the 1988 agreements, even if authentic, were concededly not arm’s-length transactions. The district court also inferred from the evidence that “the 1988 agreements were, in fact, an attempt by the Defendant [Charles Sr.] to avoid forfeiture.” It pointed particularly to the suspicious and convenient timing of the agreements:\\nNotably, Petitioners only tendered one part of the 1988 Agreements during discovery. The other two parts of the agreement were not disclosed until July 1994. In addition, Petitioners never explained how or why the other two parts of the agreement were not disclosed earlier. The delay in recording the purported assignments is likewise significant. [This court has] also found that Martha had little understanding of the agreement, relied exclusively on Defendant to value the properties, equitably apportion them, and execute all transactions necessary to carry out the terms of the agreement. Petitioners’ lack of knowledge was also evident by their reliance on Defendant during the ancillary proceeding. In addition, this Court [has] not reject[ed] the Government’s argument that both the 1981 and 1988 Agreements were “shams.”\\nAddressing the government’s argument that the agreements dated July 1, 1988 represented fraudulent transfers, the district court found that “the Government has the better arguments and the better facts.”\\nIn the context of all the evidence contained in the record, we cannot conclude that the district court clearly erred in finding that the agreements dated July 1, 1988, were not made at arm’s length and that they constituted a deliberate attempt by Charles Sr. to avoid the economic impact of forfeiture.\\nC\\nMartha McHan contends that it was clear error for the district court to find that one-half of the accumulated and future rents of a bowling alley (the “Cherokee Lanes”) located on property known as “35 Acres” were forfeitable. She contends that claim preclusion and issue preclusion from a previous civil forfeiture action require a conclusion that these rents cannot now be forfeited in this case. She also notes that the preliminary and final orders of forfeiture applied only to accumulated rents, not future rents.\\nWhile our review of the parties’ arguments and the record below lead us to conclude that the previous civil litigation does not have a preclusive effect on the forfeitability of the rents from the bowling alley, we do agree that the preliminary and final orders of forfeiture do not include future rents. In its motion for the forfeiture order, the government sought to forfeit “sums on deposit within the bank account presently held by the United States Customs Service,” which included accumulated rents from the Cherokee Lanes. Moreover, the final order of forfeiture included “the Sums on Deposit ... presently held by the United States Customs Service, including ... [a]ll rents derived from the seizure of Cherokee Lanes Bowling Alley, located on the 35-acre property (except for 50% owned by Martha McHan).” Because the government did not request the forfeiture of future rents from Cherokee Lanes in its motion for a preliminary order of forfeiture and no future rents were included in the forfeiture order, we conclude that future rents are not covered by the final order of forfeiture. In reaching this conclusion, we clarify any confusion that may have been created by the district court’s language in its memorandum opinion referring to the fact that future rents were forfeited.\\nD\\nFinally, Martha McHan returns to the terms of the 1981 Agreement to argue that the district court erred in finding that 100% of Charles Sr.’s partnership interest in the Marriott Motel Partnership was for-feitable.\\nBased on our affirmance of the district court’s finding that the 1981 Agreement was “likely created by the Defendant in order to avoid forfeiture and long after 1981,” we reject this argument as well.\\nVII\\nOn its cross-appeal, the government contends that the district court erred in concluding that six Notla deeds of trust and two lots; the Pratt, Teesateskie, and two Raye deeds of trust; and the Weeks deed of trust were not forfeitable.\\nThe record shows that after Charles Sr. was indicted for drug-trafficking offenses in an earlier case, Martha began transferring certain properties owned jointly by her and Charles Sr. to third parties, for which the third parties gave her deeds of trust in return. In September 1989, she transferred the eight Notia properties located in Georgia to third parties in exchange for deeds of trust, although she later reacquired two of the properties through foreclosure. A month earlier, in August 1989, she transferred the Pratt, Teesateskie, and Raye properties to her son, Charles Jr., and received in exchange deeds of trust. And in 1993, she transferred a property to Jan Weeks, receiving a deed of trust in return. The government sought to forfeit the various deeds of trust and the two properties that were reacquired through foreclosure.\\nAs to each of these assets, the district court held that the government could not forfeit the proceeds of these properties, which had belonged jointly to Martha and Charles Sr., because Martha became a bona fide purchaser for value by selling the properties to third parties for value and without the third party’s knowledge of the forfeiture. The government takes the position that the district court “allowed Martha to immunize” the deeds of trust from forfeiture by the “simple expedient of trading ... the forfeitable assets for deeds of trust,” thereby thwarting the purposes of the forfeiture statute. We agree.\\nMartha’s conversion of the jointly held properties into deeds of trust only changed the form of Charles Sr.’s interest in the property, not its status as substitute property subject to forfeiture. There is no evidence that Martha herself became a bona fide purchaser for value of Charles Sr.’s interests in the properties by tendering any consideration for the properties. Moreover, the government has not sought to forfeit the properties themselves, since these were purchased in good faith by third parties, but rather only the interests retained by Charles Sr. in the proceeds from the sale of these properties, i.e., his joint ownership in the deeds of trust. See In re Billman, 915 F.2d at 921 (holding that a defendant cannot defeat forfeiture by hiding the , proceeds of the illegal activity and then transferring substitute assets to a third person).\\nAccordingly, we reverse the district court’s rulings as to these properties and remand to the district court for reconsideration of the forfeiture order as to these properties under 21 U.S.C. § 853(n)(6)(B).\\nVIII\\nFor the foregoing reasons, we affirm in part, reverse in part, and remand for further proceedings consistent with this opinion.\\nAFFIRMED IN PART, REVERSED IN PART, AND REMANDED\\nIn this case, because of the potential claims of third parties to an interest in the property, the court entered a \"preliminary” forfeiture order, pending a § 853(n) hearing. See Fed. R.Crim.P. 32.2(b)(2).'"
      ]
     },
     "execution_count": 23,
     "metadata": {},
     "output_type": "execute_result"
    }
   ],
   "source": [
    "df.iloc[10434]['opinion_text']"
   ]
  },
  {
   "cell_type": "code",
   "execution_count": 27,
   "metadata": {},
   "outputs": [],
   "source": [
    "cl_data = df[1:3].copy()"
   ]
  },
  {
   "cell_type": "code",
   "execution_count": 33,
   "metadata": {},
   "outputs": [],
   "source": [
    "df = pd.read_parquet(\"data/artifacts/cap/cap_dataset.parquet\")"
   ]
  },
  {
   "cell_type": "code",
   "execution_count": 45,
   "metadata": {},
   "outputs": [
    {
     "data": {
      "text/html": [
       "<div>\n",
       "<style scoped>\n",
       "    .dataframe tbody tr th:only-of-type {\n",
       "        vertical-align: middle;\n",
       "    }\n",
       "\n",
       "    .dataframe tbody tr th {\n",
       "        vertical-align: top;\n",
       "    }\n",
       "\n",
       "    .dataframe thead th {\n",
       "        text-align: right;\n",
       "    }\n",
       "</style>\n",
       "<table border=\"1\" class=\"dataframe\">\n",
       "  <thead>\n",
       "    <tr style=\"text-align: right;\">\n",
       "      <th></th>\n",
       "      <th>name</th>\n",
       "      <th>docket_number</th>\n",
       "      <th>decision_date</th>\n",
       "      <th>court_name</th>\n",
       "      <th>jurisdiction</th>\n",
       "      <th>cite</th>\n",
       "      <th>cites_to</th>\n",
       "      <th>judges_raw</th>\n",
       "      <th>judges_clean</th>\n",
       "      <th>judges_ids</th>\n",
       "      <th>...</th>\n",
       "      <th>opinion_author_raw</th>\n",
       "      <th>opinion_author_clean</th>\n",
       "      <th>opinion_author_id</th>\n",
       "      <th>opinion_text</th>\n",
       "      <th>unique_id</th>\n",
       "      <th>is_appellate</th>\n",
       "      <th>applt_uid</th>\n",
       "      <th>district_uid</th>\n",
       "      <th>district judge</th>\n",
       "      <th>district judge id</th>\n",
       "    </tr>\n",
       "  </thead>\n",
       "  <tbody>\n",
       "    <tr>\n",
       "      <th>4685</th>\n",
       "      <td>Raymond FIEDLER; Melissa and Charlotte Fiedler...</td>\n",
       "      <td>No. 79-1556</td>\n",
       "      <td>1980-10-10</td>\n",
       "      <td>United States Court of Appeals for the Fourth ...</td>\n",
       "      <td>U.S.</td>\n",
       "      <td>631 Federal Reporter 2d Series 1144</td>\n",
       "      <td>620 Federal Reporter 2d Series 1159, 24 L.Ed.2...</td>\n",
       "      <td>Before HAYNSWORTH, Chief Judge, PHILLIPS , Sen...</td>\n",
       "      <td>[haynsworth, phillips, ervin]</td>\n",
       "      <td>[1008, 1879, 715]</td>\n",
       "      <td>...</td>\n",
       "      <td>ERVIN, Circuit Judge.</td>\n",
       "      <td>ervin</td>\n",
       "      <td>715.0</td>\n",
       "      <td>ERVIN, Circuit Judge.\\nIn this appeal, Raymond...</td>\n",
       "      <td>47180</td>\n",
       "      <td>1</td>\n",
       "      <td>47180</td>\n",
       "      <td>17376</td>\n",
       "      <td>lewis</td>\n",
       "      <td>1392.0</td>\n",
       "    </tr>\n",
       "  </tbody>\n",
       "</table>\n",
       "<p>1 rows × 21 columns</p>\n",
       "</div>"
      ],
      "text/plain": [
       "                                                   name docket_number  \\\n",
       "4685  Raymond FIEDLER; Melissa and Charlotte Fiedler...   No. 79-1556   \n",
       "\n",
       "     decision_date                                         court_name  \\\n",
       "4685    1980-10-10  United States Court of Appeals for the Fourth ...   \n",
       "\n",
       "     jurisdiction                                 cite  \\\n",
       "4685         U.S.  631 Federal Reporter 2d Series 1144   \n",
       "\n",
       "                                               cites_to  \\\n",
       "4685  620 Federal Reporter 2d Series 1159, 24 L.Ed.2...   \n",
       "\n",
       "                                             judges_raw  \\\n",
       "4685  Before HAYNSWORTH, Chief Judge, PHILLIPS , Sen...   \n",
       "\n",
       "                       judges_clean         judges_ids  ...  \\\n",
       "4685  [haynsworth, phillips, ervin]  [1008, 1879, 715]  ...   \n",
       "\n",
       "         opinion_author_raw opinion_author_clean opinion_author_id  \\\n",
       "4685  ERVIN, Circuit Judge.                ervin             715.0   \n",
       "\n",
       "                                           opinion_text unique_id  \\\n",
       "4685  ERVIN, Circuit Judge.\\nIn this appeal, Raymond...     47180   \n",
       "\n",
       "     is_appellate  applt_uid district_uid district judge district judge id  \n",
       "4685            1      47180        17376          lewis            1392.0  \n",
       "\n",
       "[1 rows x 21 columns]"
      ]
     },
     "execution_count": 45,
     "metadata": {},
     "output_type": "execute_result"
    }
   ],
   "source": [
    "df.sample(1)"
   ]
  },
  {
   "cell_type": "code",
   "execution_count": 46,
   "metadata": {},
   "outputs": [
    {
     "data": {
      "text/plain": [
       "'ERVIN, Circuit Judge.\\nIn this appeal, Raymond Fiedler and his daughters, Melissa (Lisa) and Charlotte, all of whom are members of the white race, challenge the district court’s dismissal of their civil rights suit brought under 42 U.S.C. § 1981 against Marumsco Christian School, Marumsco Baptist Church (hereafter collectively called Marumsco) and Aleck Lee Bledsoe, principal of the school and pastor of the church (hereafter, Bledsoe). Alleging in district court that Lisa and Charlotte were expelled from the school in violation of their right to contract free from racial discrimination, the Fiedlers sought declaratory and injunctive relief and monetary damages; they also requested a jury trial.\\nUpon commencement of the district court proceedings, counsel for Marumsco advised the court that Marumsco had filed petitions under the Bankruptcy Act earlier that morning, and requested a stay of the instant proceedings pending the outcome of the bankruptcy action. Denying the motion to stay the proceedings in their entirety, the court instead bifurcated the issues of liability and damages, reserving proof of damages for later trial, by jury if one were requested.\\nAfter discharging the jury venire, the district court tried the issue of Marumsco’s liability under § 1981, and dismissed the ease on the merits, finding that Marumsco and Bledsoe had a valid defense to the § 1981 claim by virtue of the free exercise of religion clause in the Constitution (hereafter called “free exercise defense”).\\nThe Fiedlers now assert error in the district court’s discharge of the jury on the issue of liability and in its dismissal of their claim on its merits. Because we find that the Fiedlers waived their right to a jury trial on the issue of liability, we dismiss that portion of their appeal. Finding, however, that the district court committed reversible error in its dismissal of the Fied-lers’ § 1981 claim, we accordingly reverse that portion of the judgment.\\nI.\\nSituated in Woodbridge, Virginia, Ma-rumsco Baptist Church is an independent, unincorporated association of persons who profess a fundamentalist Christian faith and belief in the Bible. It is open to all fundamentalist Christians without regard to formal denomination or race. Marumsco Christian School is a private school established by the church for inculcating and transmitting the religious beliefs of the members of the church. The school does, however, hold itself out to the general public as providing, within the limits of its maximum enrollment, educational and related services to students who meet its admission requirements, pay the requisite tuition and fees, and agree to abide by school regulations; neither membership in the Ma-rumsco Baptist Church nor adherence to the Baptist faith is required.\\nSince it was founded in 1972, the school has admitted students without regard to race and has sought to encourage interracial harmony and friendship. Bledsoe, however, opposes interracial romantic relationships, claiming to base his opposition on religious beliefs derived from the Bible and upon the conviction that such relationships are problematic socially. He does not as a general rule oppose romantic relationships between the sexes. His feelings concerning interracial relationships, however, are evidently quite strong: he advised one of the teachers in the school that he thought the sex drive was stronger in black men than in white men; he also admonished his school children that in the event of a takeover of the United States by a group similar to the Khmer Rouge, interracial couples would probably be liquidated. Neither the enrollment contract of the school nor the constitution and bylaws of the church expressly prohibit or allude to interracial dating.\\nFiedler enrolled Lisa, age fourteen, and Charlotte, age eleven, in the school for the 1978-1979 academic year. He testified at trial that he wanted to give them a Christian education and that it was unavailable in public school, and that he had no problem accepting the principles of faith, the Bible teaching policy and the disciplinary procedure set out in Marumsco’s application. He also testified that he was unaware of a school policy against interracial dating.\\nDuring the course of the school year, Lisa reestablished a friendship with Rufus Bostic, a fourteen year-old black student whom she had known while attending public school. Although Lisa testified that Rufus was not her “boyfriend,” it was stipulated that Bledsoe believed in good faith that a romantic relationship existed between the two students. Bledsoe warned Lisa not to continue her association with Rufus, advising her that “the church had a position against it,” and that he “personally had a position against it as pastor and principal”; he also referred to the “problems” Moses and Abraham had. It was stipulated that Bledsoe ultimately warned Lisa that if she were caught speaking to Rufus again on school premises or at school functions, she would be expelled. It was also stipulated that because he later observed her talking to Rufus and a third student in the school hallway, he did expel her.\\nIn a telephone conversation with Fiedler following Lisa’s expulsion, Bledsoe agreed to readmit Lisa to school after a two day suspension if Fiedler accepted the condition that Lisa would not speak to or associate with Rufus upon her readmission. The following day, Bledsoe heard that Fiedler had earlier contacted the NAACP regarding Lisa’s initial expulsion; he then had a church deacon advise Fiedler that if Fiedler had indeed contacted the NAACP, then Lisa’s expulsion would remain in effect and Charlotte would also be expelled. Fiedler told the deacon that he had been prepared to drop the matter, but that in light of Bledsoe’s ultimatum he had now decided to proceed with legal action; the deacon then advised Fiedler that the girls would be expelled.\\nFollowing the girls’ expulsion, Rufus Bostic’s parents withdrew him from the school and his family resigned its membership in the church. Bledsoe testified that after the expulsion church attendance dropped from around two hundred forty persons to seventy or seventy-five persons; membership in the church also dropped by nine families.\\nII.\\nThe district court found that, as a ministry of the church, the school bases its conduct and spiritual standards on the religious tenets, doctrines, beliefs and convictions of the fundamentalist Christianity of the church. It found that, based on their interpretation of the Bible, Marumsco and Bled-soe believe that, although salvation is offered and the church must be open to all without regard to race, interracial marriage, interracial dating and interracial romantic relationships are forbidden. The court concluded that Lisa was expelled because she refused to end her romantic relationship with Rufus after she was warned by Bledsoe that interracial romantic expressions on school premises and at school functions must end.\\nThe district court’s dismissal of the Fied-lers’ § 1981 claim was predicated on its ruling that the church has a bona fide religious belief that the Bible forbids interracial romance, dating and marriage, and that actions based on that belief are insulated by the First Amendment from attack, absent a finding of compelling state interest.\\nThe \\'Fiedlers’ contentions on appeal, that the district court erred in denying them a jury trial on the issue of Marumsco’s liability and in dismissing their § 1981 claim due to improper imputation of Bledsoe’s religious beliefs to Marumsco, will be considered separately.\\nIII.\\nThe Fiedlers first contend that the district court erred in denying them a jury trial. Assuming without deciding that they were in the first instance entitled to a jury trial on the issue of liability, it is clear that the Fiedlers’ conduct here constituted a waiver of that right. See, e. g., Country (Social) Club of Savannah, Inc. v. Sutherland, 411 F.2d 599 (5th Cir. 1969); West v. Devitt, 311 F.2d 787 (8th Cir. 1963); Smith v. Cushman Motor Works, Inc., 178 F.2d 953 (8th Cir. 1950).\\nThe following colloquy took place prior to trial:\\nTHE COURT: ... I am going to excuse the jury. I did not know they were in there.\\n(Whereupon, the jury was brought into the courtroom for instructions from the Court.)\\nTHE COURT: ... No one told me you were in there for the case that you were apparently called for and I have ruled it is not a jury matter. It is an equitable matter involving first of all, a constitutional claim. The facts have been stipu-. lated too [sic], and whether or not it is a constitutional issue, is for the Court to determine. At some date later, there might be a damage issue. If it is conceivably a jury matter, it is between a church and school which have declared and filed a petition for bankruptcy which would stay a damage claim pending the outcome of that. So we have no need for you . . .\\n(Whereupon, the jury was dismissed.)\\nMR. GLASBERG: We are prepared to go forward with the remaining factual contentions.\\n(Transcript at 18-19.)\\nThe tenor of the entire pretrial conference with respect to the effect of the pending bankruptcy petition indicates that the Fiedlers wanted to proceed with the scheduled trial on the merits and were willing to do so before the court and without benefit of a jury.\\nBecause of their acquiescence in the discharge of the jury, the Fiedlers have waived their right to assert on appeal that they were denied a jury trial.\\nIV.\\nIt is because we agree with the Fiedlers’ contention that the district court erred in dismissing its § 1981 claim on the merits that we reverse with instructions to enter judgment in favor of the Fiedlers on the question of Marumsco’s liability. We do so because we find that § 1981 does apply, and, as applied here, is not unconstitutional: the district court was clearly erroneous in finding that Marumsco holds a bona fide religious belief concerning the prohibition of interracial relationships and that its practices based on that belief are therefore insulated by the Free Exercise Clause of the Constitution.\\nA. Applicability of § 1981\\nThe first issue we are called upon to address is whether § 1981 prohibits a commercially operated, private, sectarian school from discriminating on the basis of race, specifically, by terminating a contractual relationship with a white student at the school because of her association with a black student at the same school.\\nAs a preliminary matter, we point out that the Fiedlers, though white, have standing to sue under § 1981, albeit prior to the Supreme Court’s decision in McDonald v. Santa Fe Trail Transportation Co., 427 U.S. 273, 96 S.Ct. 2574, 49 L.Ed.2d 493 (1976), that question had been met with different responses by lower federal courts. See 427 U.S. at 286 n.16, 96 S.Ct. at 2581 n.16 and cases cited therein. In McDonald, in which white employees dismissed for allegedly misappropriating property from their employer sued under Title VII and § 1981 because a black employee similarly charged was not dismissed, the Court settled the issue. It rejected the employer’s contentions that the language “as is enjoyed by white citizens” and the legislative history of § 1981 clearly limited the statute to the protection of nonwhites against racial discrimination. Section 1981 explicitly applies to “all persons,” including white persons, said the Court, and “[wjhile a mechanical reading of the phrase ‘as is enjoyed by white citizens’ would seem to lend support to respondents’ reading of the statute, we have previously described this phrase simply as emphasizing ‘the racial character of the rights being protected.’ ” 427 U.S. at 287, 96 S.Ct. at 2582 (citation omitted).\\nThe substance of the Fiedlers’ claim is also properly treated within the scope of § 1981: Runyon v. McCrary, 427 U.S. 160, 96 S.Ct. 2586, 49 L.Ed.2d 415 (1976), recognized that the statute was applicable to contracts for educational services\\' as well as to those for employment. And it is settled that the nature of the discrimination in this case-taking adverse action against a white person because of his association with blacks-falls under § 1981. See DeMatteis v. Eastman Kodak Co., 511 F.2d 306 (2nd Cir. 1975), modified on other grounds, 520 F.2d 409 (2nd Cir. 1975) (suit allowed under § 1981 where a white employee claimed his company forced him into premature retirement solely because he sold his house, located in a neighborhood inhabited primarily by white company employees, to a black fellow employee); Faraca v. Clements, 506 F.2d 956 (5th Cir. 1975), cert. denied, 422 U.S. 1006, 95 S.Ct. 2627, 45 L.Ed.2d 669 (1975) (claim that white teacher was denied a job because he was married to a black woman allowed under § 1981); and see, Developments in the Law-Section 1981, 15 Harv.C. R.-C.L.Rev. 29, 75-76 (1980); see also Sullivan v. Little Hunting Park, 396 U.S. 229, 90 S.Ct. 400, 24 L.Ed.2d 386 (1969) (upholding § 1982 suit by a white landowner who was expelled from a residential community park organization for having assigned his park interest to his black tenant); Bills v. Hodges, 628 F.2d 844 (4th Cir. 1980) (suit involving white apartment renters who sued under § 1982 after being evicted allegedly for biracial dating and entertainment practices); Walker v. Pointer, 304 F.Supp. 56 (N.D.Tex.1969) (claim stated under § 1982 where white tenants evicted for having entertained black guests).\\nWere it not for Marumsco’s sectarian character (hence, its assertion of a free exercise right to discriminate on the basis of race), this case would be virtually indistinguishable from Runyon v. McCrary, supra. Runyon held that a private, nonsectarian school that holds itself out to the public is open to suit under § 1981, and that the statute prohibited such a school from denying admission to prospective students on the basis of race. The Court pointed out that “[¡]t is worth noting at the outset some of the questions that these cases do not present. .. . They do not even present the application of § 1981 to private sectarian schools that practice racial exclusion on religious grounds.\" 427 U.S. at 167, 96 S.Ct. at 2593 (emphasis in original) (footnote omitted). This language should be read only as an attempt to delineate what was at stake in that case and not as an implication that the statute is inapplicable to such claims. The district court, however, looked to this language and found that Runyon offered no help in determining whether § 1981 prohibits private sectarian schools from expelling students on religious grounds.\\nIt is clear, however, that Runyon offers the starting point for analyzing such a claim: the sectarian nature of the school is important only insofar as it may give rise to a constitutional defense to the claim. Merely because the school’s defense is based on religious beliefs, as in this case, rather than on associational rights, as in Runyon, does not alter the applicability of § 1981 in the first instance; the constitutionality of the statute as applied is a separate question.\\nThe Fifth Circuit has reached the same conclusion in Brown v. Dade Christian Schools, Inc., 556 F.2d 310 (5th Cir. 1977), cert. denied, 434 U.S. 1063, 98 S.Ct. 1235, 55 L.Ed.2d 763 (1978), in which a sectarian school asserted a right based on religious grounds to practice racial discrimination in admissions. Although the en banc court was divided on the proper disposition of the case (the majority found the policy to be social or political rather than religious), all thirteen judges apparently agreed that Run yon settled the statutory issue. See 556 F.2d at 312, 315, 326.\\nB. Constitutionality of § 1981 as Applied\\nMarumsco asserts, however, that § 1981 as applied to its actions in this case is unconstitutional because those actions were based on bona fide religious beliefs and hence are protected by the Free Exercise Clause. We disagree.\\nThe threshold question in determining the validity of a free exercise defense is whether the belief called into question is in fact bona fide; if it is not, then the question whether the law as applied is unconstitutional need not be reached.\\nIn Wisconsin v. Yoder, 406 U.S. 205, 92 S.Ct. 1526, 32 L.Ed.2d 15 (1972), the Supreme Court established guidelines for determining whether a belief is a religious belief, the free exercise of which is protected by the First Amendment. Yoder involved a suit against Amish parents for failure to enroll their children in school after the eighth grade. The parents defended on grounds that the compulsory attendance law, which required them to send their children to either public or private school until age 16, violated their rights under the First and Fourteenth Amendments because such high school attendance was contrary to the Amish religion and way of life. The Court pointed out that “to have the protection of the Religion Clauses, the claims must be rooted in religious belief,” for “[a] way of life, however virtuous and admirable, may not be interposed as a barrier to reasonable state regulation of education if it is based on purely secular considerations.” 406 U.S. at 215, 92 S.Ct. at 1533. While recognizing that “a determination of what is a ‘religious’ belief or practice entitled to constitutional protection may present a most delicate question,” the Court nevertheless found such a determination necessary when a free exercise defense is asserted because “the very concept of ordered liberty precludes allowing every person to make his own standards on matters of conduct in which society as a whole has important interests.” Id. at 215-16, 92 S.Ct. at 1533 (footnote omitted); see also Founding Church of Scientology v. U.S., 409 F.2d 1146, 1160 (D.C. Cir. 1969), cert. denied, 396 U.S. 963, 90 S.Ct. 434, 24 L.Ed.2d 427 (1969) (footnote omitted) (“[t]hough litigation of the question whether a given group or set of beliefs is or is not religious is a delicate business, our legal system sometimes requires it so that secular enterprises may not unjustly enjoy the immunities granted to the sacred.”). Hence, if the belief asserted is “philosophical and personal rather than religious,” or is “merely a matter of personal preference,” and not “one of deep religious conviction, shared by an organized group,” it will not be entitled to First Amendment protection. 406 U.S. at 216, 92 S.Ct..at 1533. The Yoder Court found that, based on the abundant evidence in the record that the traditional way of life of the Amish was based on deep religious conviction, the Amish claim met the standards for entitlement to a free exercise defense.\\nIn the recent case Sequoyah v. TVA, 620 F.2d 1159 (6th Cir. 1980), the Sixth Circuit applied Yoder’s standards to defeat a claim by the Cherokee Indians that the completion and flooding of the Tellieo Dam on the Little Tennessee River would cause them to “suffer injury by the infringement of their right to worship the religion of their choice in the manner of their choosing by the destruction of sites which they hold in reverence and in denial of access to such sites by [TVA].” 620 F.2d at 1160 (quoting Se-quoyah’s complaint). The district court accepted that the land to be flooded was sacred to the Cherokee religion but summarily dismissed the claim on grounds that the Indians had no property interest in the area. The court of appeals found the dismissal proper, but held that it should have been grounded on the failure of proof on the “quality of the claims” allegedly religious: the affidavits relied on did not show that the Valley was central or indispensable to Cherokee religious observances or that worship there was inseparable from their, way of life; they demonstrated instead “personal preference” rather than convictions “shared by an organized group,” id. at 1164 (quoting Yoder, 406 U.S. at 216, 92 S.Ct. at 1533); and even the personal preferences appeared to be based on historical and cultural grounds rather than religious ones. Because the court concluded there was no constitutional infringement, it found no need to determine whether the government’s interest was compelling in the face of the Cherokees’ claim.\\nA plurality of the Fifth Circuit sitting en banc in Brown v. Dade Christian Schools, Inc., supra, was also able to avoid balancing “potentially conflicting interests” in that case. 556 F.2d at 312. In Brown, the district court held that § 1981 reached and forbade private discriminatory conduct of commercially operated sectarian schools and found that the facts of that case showed the discrimination was the result of a social policy or philosophy and was not the exercise of religion. The court of appeals, deciding that the appropriate focus was on the corporate or institutional belief rather than on individual members’ beliefs, agreed that the evidence supported a finding that the beliefs in question were not religious. First, none of the church’s writings referred to segregation of schools and while the court did not hold “that a belief must be permanently recorded in written form to be religious in nature. . . . the absence of references to school segregation in written literature stating the church’s beliefs ... is strong evidence that school segregation ..is not the exercise of religion.” 556 F.2d at 312. Second, the evidence that the belief, if contested, would be subject to change at the direction of the church membership “comports with the social or political nature of the exclusionary policy.” Id. (footnote omitted). Other evidence showed that the policy had never been officially adopted but had simply evolved gradually. The court of appeals affirmed the district court’s holding that the school’s policy was a social response to the growing issue of integration, though it did not deny that “a religious belief may be of recent vintage or formed instantaneously.” Id. at 313. As a result of its af-firmance of the district court’s factfinding, the court did not feel compelled to balance the interests of § 1981 with those of the Free Exercise Clause.\\nWe believe that the Brown plurality adopted the appropriate analysis of the free exercise defense at issue in that case and in the instant one. The district court here, however, throughout trial and in its opinion, treated Bledsoe and Marumsco as one for purposes of determining the religious beliefs of the church: it assumed that which, under the Brown analysis, it should have been deciding, whether the views of Bledsoe were indeed the views of the church. After focusing on the institution itself and after applying Yoder to determine the quality of its alleged beliefs, we find that the district court’s imputation of Bledsoe’s private views on racial purity to the church was clearly erroneous.\\nExamination of the record in this case establishes that the evidence is overwhelmingly against the district court\\'s findings that Bledsoe’s personal beliefs are the church’s beliefs. Evidence showed that the church’s writings-the statement of cooperation signed by parents of the school’s students, the constitution and bylaws of Marumsco Baptist Church, the statement of faith-do not address the subject of interracial romantic relationships, nor do they mention race relations at all. These, along with the Bible, constitute the written teachings of the church; according to testimony, the religious beliefs of the church were .embodied in these writings.\\nEvidence further showed that Fiedler, Lisa, Deacon Bostic and Gail Bostic were unaware until this incident of any church or school policy at all concerning interracial dating. Unanimous testimony in fact showed that prior to the expulsion there was never any corporate consideration at all of an alleged doctrinal opposition to interracial romantic relationships. Admission to the school and membership in the church were available without regard to race; interracial friendships were encouraged. There was an interracial marriage in the Bostic family and no evidence showed that the church had ever stigmatized the Bostics as a result. Mr. Bostic, a deacon of four years’ standing, testified that he had believed himself to be acquainted with the\\' religious beliefs of the church and that he had understood the church’s belief to be’ “that there should not be any segregation among Christian people for the Bible says there is no difference among blacks, whites, yellows, or greens.” (Transcript at 51). He also testified that to his recollection Bledsoe had never preached against interracial romantic relationships. Gail Bostic, a former teacher at the school, testified that she had heard Bledsoe express his personal views on the matter but that she was unaware of any church position on it based on religious grounds.\\nBledsoe himself testified that his position was the position of the church and was based on the Bible; that he had preached about it from the pulpit though he could not remember how many times; that he had had no negative feedback from the sermons he had preached. He said that he believed “socially [interracial romantic relationships] would be a real problem,” and when asked whether he distinguished the social problems and religious beliefs based on the Bible, he responded, “I tie the two together on a religious basis as being wrong and the various repercussions in - society.” (Transcript at 77-78).\\nThe record in this case shows that Ma-rumsco failed to prove its free exercise defense. Nothing other than Bledsoe’s own conclusions indicates that his conviction regarding interracial romantic relationships is shared by the institution or that it is, in any event, more than a “personal preference.” The institutional belief indeed is apparently one of racial equality and Bledsoe’s belief is in no way reflective of that stance. The district court’s contrary finding, offered without benefit of factual analysis, is not supportable by any interpretation of the evidence offered at trial.\\nAs no valid religious belief has been called into question and as Marumsco asserts no other constitutional defense, we need not balance interests to determine whether § 1981 as applied in this case is unconstitutional.\\nIV.\\nThe judgment of the district court is hereby reversed. We remand with instructions to enter judgment in favor of the Fiedlers on the issue of Marumsco’s and Bledsoe’s liability.\\nREVERSED AND REMANDED.\\n.42 U.S.C. § 1981 provides in pertinent part that “[a]ll persons within the jurisdiction of the United States shall have the same right in every State. and Territory to make and enforce contracts ... as is enjoyed by white citizens,\\n. At oral argument, counsel for Marumsco advised this court that the school is presently operating in spite of the bankruptcy filing. The claim for injunctive relief is therefore not mooted.\\n. The First Amendment to the Constitution in part provides that “Congress shall make no law respecting an establishment of religion, or prohibiting the free exercise thereof; . . ..” U.S.Const. Amend. I.\\n. The court also found, somewhat contradictorily, that the expulsions took place “[w]hen the Pastor learned that Mr. Fiedler had apparently changed his mind and was not going to send Melissa back to school on the conditions agreed upon.” This is clearly erroneous as the record reflects Fiedler had every intention of abiding by the agreement.\\nAnd, as still a third alternative reason for the expulsion, the district court ruled that\\nPlaintiffs [the Fiedlers] made representations to defendants [Marumsco and Bledsoe] of their pursuit of action not in accord with the conditions of the suspension and the underlying enrollment contract and were in breach thereof, whereupon defendants dismissed the aforementioned children of plaintiff Raymond Fiedler from Marumsco Baptist Church’s school.\\nAlthough it is impossible to surmise from the opinion or record exactly what this vague holding refers to, the suggestion that the Fiedlers breached any contractual obligation to Marum-sco is completely lacking foundation in the record.\\n. Although the district court did not set forth in its opinion a clear reason for finding no such interest here, it implied that, in a case involving a private sectarian school, the state could never have an interest compelling enough to justify interference with the school’s actions based on religious beliefs. In apparent support of this theory, the district court paraphrased Judge Coleman’s dissenting opinion in Brown v. Dade County Christian Schools, Inc., 556 F.2d 310 (5th Cir. 1977), cert. denied, 434 U.S. 1063, 98 S.Ct. 1235, 55 L.Ed.2d 763 (1978):\\n1 do not understand that the Marumsco Baptist Church is operating the Marumsco Christian school as a commercial enterprise. It is a direct, intimate adjunct of church activities, conducted in the house of worship. From the earliest days, when governments were doing absolutely nothing about it, nearly all religious denominations have conducted schools, including colleges, as an integral part of their activities. If the church is to remain absolutely separate and apart from the state, then no court should have the power to compel any church to readmit any student who had been expelled from its church school for religious reasons. This case may turn out to be the first step to a long, intrusive interference with the exercise of religion. I hope this does not prove to be so.\\n.The district court rejected what it perceived to be a suggestion by the Fiedlers that the religious belief in question is not a sincere one. The Fiedlers do not in fact ever challenge the sincerity of the alleged belief, only imputation of Bledsoe’s belief (sincere though it might be) to Marumsco.\\n. We recognize that, because of the sequence of events with respect to Lisa’s initial expulsion, the conversion of that expulsion into a suspension and the final expulsion subsequent to the contact with the NAACP, the issue is not so clear-cut in this case as it could be. We find, however, that it is immaterial to the outcome of this case whether the contractual termination took place because of Lisa’s association with Rufus or because of the Fiedlers’ attempts to vindicate their constitutional and statutory rights: § 1981 affords a remedy for both the initial expulsion and the retaliatory expulsions. See DeMatteis v. Eastman Kodak Co., 511 F.2d 306 (2nd Cir. 1975), modified on other grounds, 520 F.2d 409 (2nd Cir. 1975) (§ 1981 is the proper vehicle for a claim involving retaliatory practices against a white man who sold his home to a black); see also Sullivan v. Little Hunting Park, Inc., 396 U.S. 229, 90 S.Ct. 400, 24 L.Ed.2d 386 (1969) (retaliation against a person who advocates the rights of another to hold property without respect to race violates § 1982).\\n. The district court’s refusal to recognize that private schools, if commercially operated, come within the scope of § 1981, is evident throughout its opinion. This was precisely the holding in Runyon, however: that private schools, if actually open to the public, are not exempt from coverage. See 427 U.S. at 172 n.10, 96 S.Ct. at 2595 n.10.\\n. The district court’s test was “whether there was a generally held, recognized, fundamental religious tenet of the school through its leadership.” See 556 F.2d at 316 (concurring opinion).\\n. Judge Goldberg, in a special concurrence, felt that consideration of the free exercise claim on its merits was unavoidable; his resolution was against the free exercise defense in the face of the compelling government interest in securing the rights of blacks to contract with private schools. He also disagreed with the plurality’s focus on the institutional belief, thinking that the proper guide is the beliefs of the “people behind the institutions.” 556 F.2d at 316 (concurring opinion) (emphasis in original).\\n. The court’s comment that “I cannot conceive if the preacher does not espouse the cause of his church, then who does” (Transcript at 234) is indicative of its approach to the issue.\\n. Even the pertinent beliefs of individuals within the church, including Bledsoe to some extent, appear to be based on social and political rather than religious grounds.\\n. Bledsoe furnished numerous Biblical references he claimed supported his opposition to interracial romantic relationships. Because the bona fides of Bledsoe’s beliefs is not per se in issue (we need investigate it only to determine whether it is reflective of the institutional belief), these references are important only insofar as the church has adopted his interpretation of them. There is no evidence in the record to suggest that the church has done so.\\n. Fiedler testified as follows:\\nMR. GLASBERG: To your knowledge, was interracial friendship encouraged at the church?\\nMR. FIEDLER: Yes, it was.\\nMR. GLASBERG: Did you have any inkling that that might not be so or the case in the church or school personnel other than the incident giving rise to this lawsuit?\\nMR. FIEDLER: None.\\n(Transcript at 40).\\nDeacon Tolman said that “[s]ince this particular event, we [the deacons] have thought along the lines of incorporating it in the ByLaws.” (Transcript at 137). He also said that he had suggested the church take an officiál stand on the question of interracial relationships, and the following testimony then ensued:\\nMR. GLASBERG: I take it an official church stand does not presently exist.\\nMR. TOLMAN: No, I would not say that.\\nMR. GLASBERG: Why would you have to take it up if one exists?\\nMR. TOLMAN: It is not a question of taking a stand, but one. of spelling out an existing stand on paper, so others can read it.\\nMR. GLASBERG: There is a present stand?\\nMR. TOLMAN: Yes.\\nMR. GLASBERG: And it is based on what?\\nMR. TOLMAN: This suit, for one thing.\\n(Transcript at 143).'"
      ]
     },
     "execution_count": 46,
     "metadata": {},
     "output_type": "execute_result"
    }
   ],
   "source": [
    "df[df['unique_id']=='47180']['opinion_text'].iloc[0]"
   ]
  },
  {
   "cell_type": "markdown",
   "metadata": {},
   "source": [
    "# Data Collection"
   ]
  },
  {
   "cell_type": "code",
   "execution_count": 3,
   "metadata": {},
   "outputs": [
    {
     "name": "stdout",
     "output_type": "stream",
     "text": [
      "Working dir: /Users/ilyadavidson/Stanford_Internship/judge_project\n",
      "Found 28 parquet files for pattern: data/parquet_files/CAP_data_*.parquet\n"
     ]
    }
   ],
   "source": [
    "# promoted        = pd.read_csv('results/promoted_judge_stats.csv')\n",
    "judges          = pd.read_csv('data/judge_info.csv')\n",
    "with open(\"results/appellate_matches.json\", \"r\", encoding=\"utf-8\") as f:\n",
    "    app_matches = json.load(f)   \n",
    "df = build_cap_dataset()\n",
    "# cl_cleaned = pd.read_csv('third_circuit_on_appeal.csv')\n",
    "cl = pd.read_csv('third_circuit_on_appeal.csv')\n",
    "cl = cl[cl['docket_number'].notna()] # remove nas\n",
    "cl = cl.drop_duplicates(subset=\"docket_number\", keep=\"first\") # drop dupes"
   ]
  },
  {
   "cell_type": "code",
   "execution_count": 10,
   "metadata": {},
   "outputs": [],
   "source": [
    "df = df[df['is_appellate']==1]"
   ]
  },
  {
   "cell_type": "code",
   "execution_count": 12,
   "metadata": {},
   "outputs": [],
   "source": [
    "df = df.drop_duplicates(subset=\"docket_number\", keep=\"first\") # drop dupes"
   ]
  },
  {
   "cell_type": "code",
   "execution_count": 13,
   "metadata": {},
   "outputs": [
    {
     "name": "stdout",
     "output_type": "stream",
     "text": [
      "Total CourtListener cases: 2705\n",
      "Overlap by substring with CAP: 1912\n",
      "No overlap with CAP: 793\n"
     ]
    }
   ],
   "source": [
    "cl_dockets = cl[\"docket_number\"].dropna().astype(str).unique().tolist()\n",
    "cap_dockets = df[\"docket_number\"].dropna().astype(str).unique().tolist()\n",
    "\n",
    "def has_overlap(cl_docket: str, cap_dockets=cap_dockets) -> bool:\n",
    "    for cap_d in cap_dockets:\n",
    "        if cl_docket in cap_d or cap_d in cl_docket:\n",
    "            return True\n",
    "    return False\n",
    "\n",
    "cl[\"overlap_by_substring\"] = cl[\"docket_number\"].astype(str).apply(has_overlap)\n",
    "\n",
    "total = len(cl)\n",
    "overlap = cl[\"overlap_by_substring\"].sum()\n",
    "non_overlap = total - overlap\n",
    "\n",
    "print(f\"Total CourtListener cases: {total}\")\n",
    "print(f\"Overlap by substring with CAP: {overlap}\")\n",
    "print(f\"No overlap with CAP: {non_overlap}\")"
   ]
  },
  {
   "cell_type": "code",
   "execution_count": 11,
   "metadata": {},
   "outputs": [],
   "source": [
    "overlap = cl[cl['overlap_by_substring']==False]"
   ]
  },
  {
   "cell_type": "code",
   "execution_count": 12,
   "metadata": {},
   "outputs": [
    {
     "data": {
      "text/html": [
       "<div>\n",
       "<style scoped>\n",
       "    .dataframe tbody tr th:only-of-type {\n",
       "        vertical-align: middle;\n",
       "    }\n",
       "\n",
       "    .dataframe tbody tr th {\n",
       "        vertical-align: top;\n",
       "    }\n",
       "\n",
       "    .dataframe thead th {\n",
       "        text-align: right;\n",
       "    }\n",
       "</style>\n",
       "<table border=\"1\" class=\"dataframe\">\n",
       "  <thead>\n",
       "    <tr style=\"text-align: right;\">\n",
       "      <th></th>\n",
       "      <th>cluster_id</th>\n",
       "      <th>case_name</th>\n",
       "      <th>docket_number</th>\n",
       "      <th>combined_preview</th>\n",
       "      <th>overlap_by_substring</th>\n",
       "    </tr>\n",
       "  </thead>\n",
       "  <tbody>\n",
       "    <tr>\n",
       "      <th>0</th>\n",
       "      <td>10679495</td>\n",
       "      <td>United States v. Natalya Shvets</td>\n",
       "      <td>22-2683</td>\n",
       "      <td>PRECEDENTIAL\\n\\n      UNITED STATES COURT OF A...</td>\n",
       "      <td>False</td>\n",
       "    </tr>\n",
       "    <tr>\n",
       "      <th>1</th>\n",
       "      <td>10678447</td>\n",
       "      <td>Bobrick Washroom Equipment Inc v. Scranton Pro...</td>\n",
       "      <td>23-2577</td>\n",
       "      <td>PRECEDENTIAL\\n\\n        UNITED STATES COURT OF...</td>\n",
       "      <td>False</td>\n",
       "    </tr>\n",
       "    <tr>\n",
       "      <th>2</th>\n",
       "      <td>10675432</td>\n",
       "      <td>Robert Sofaly v. Portfolio Recovery Associates...</td>\n",
       "      <td>24-2639</td>\n",
       "      <td>PRECEDENTIAL\\n\\n    UNITED STATES COURT OF APP...</td>\n",
       "      <td>False</td>\n",
       "    </tr>\n",
       "    <tr>\n",
       "      <th>3</th>\n",
       "      <td>10674376</td>\n",
       "      <td>United States v. Xavier Josey</td>\n",
       "      <td>24-1891</td>\n",
       "      <td>PRECEDENTIAL\\n\\n         UNITED STATES COURT O...</td>\n",
       "      <td>False</td>\n",
       "    </tr>\n",
       "    <tr>\n",
       "      <th>4</th>\n",
       "      <td>10673697</td>\n",
       "      <td>United States v. Ben McCormack</td>\n",
       "      <td>24-2500</td>\n",
       "      <td>PRECEDENTIAL\\n\\n       UNITED STATES COURT OF ...</td>\n",
       "      <td>False</td>\n",
       "    </tr>\n",
       "    <tr>\n",
       "      <th>...</th>\n",
       "      <td>...</td>\n",
       "      <td>...</td>\n",
       "      <td>...</td>\n",
       "      <td>...</td>\n",
       "      <td>...</td>\n",
       "    </tr>\n",
       "    <tr>\n",
       "      <th>2997</th>\n",
       "      <td>252526</td>\n",
       "      <td>LYNCHBURG GAS COMPANY, Petitioner, v. FEDERAL ...</td>\n",
       "      <td>13285_1</td>\n",
       "      <td>McLAUGHLIN, Circuit Judge. Petitioner, Lynchbu...</td>\n",
       "      <td>False</td>\n",
       "    </tr>\n",
       "    <tr>\n",
       "      <th>3010</th>\n",
       "      <td>226718</td>\n",
       "      <td>In Re DISTILLERS FACTORS CORP.</td>\n",
       "      <td>10274_1</td>\n",
       "      <td>HASTIE, Circuit Judge. This appeal is from an ...</td>\n",
       "      <td>False</td>\n",
       "    </tr>\n",
       "    <tr>\n",
       "      <th>3012</th>\n",
       "      <td>228399</td>\n",
       "      <td>GULF RESEARCH &amp; DEVELOPMENT CO. Et Al. v. LEAH...</td>\n",
       "      <td>10488_1</td>\n",
       "      <td>*303 MARIS, Circuit Judge. This is a petition ...</td>\n",
       "      <td>False</td>\n",
       "    </tr>\n",
       "    <tr>\n",
       "      <th>3014</th>\n",
       "      <td>226291</td>\n",
       "      <td>In Re KELLETT AIRCRAFT CORP.</td>\n",
       "      <td>10207_1</td>\n",
       "      <td>HASTIE, Circuit Judge. This case comes before ...</td>\n",
       "      <td>False</td>\n",
       "    </tr>\n",
       "    <tr>\n",
       "      <th>3021</th>\n",
       "      <td>231682</td>\n",
       "      <td>AMERICAN AIRLINES, Inc. Et Al. v. FORMAN, Judg...</td>\n",
       "      <td>10922_1</td>\n",
       "      <td>HASTIE, Circuit Judge. These two proceedings h...</td>\n",
       "      <td>False</td>\n",
       "    </tr>\n",
       "  </tbody>\n",
       "</table>\n",
       "<p>790 rows × 5 columns</p>\n",
       "</div>"
      ],
      "text/plain": [
       "      cluster_id                                          case_name  \\\n",
       "0       10679495                    United States v. Natalya Shvets   \n",
       "1       10678447  Bobrick Washroom Equipment Inc v. Scranton Pro...   \n",
       "2       10675432  Robert Sofaly v. Portfolio Recovery Associates...   \n",
       "3       10674376                      United States v. Xavier Josey   \n",
       "4       10673697                     United States v. Ben McCormack   \n",
       "...          ...                                                ...   \n",
       "2997      252526  LYNCHBURG GAS COMPANY, Petitioner, v. FEDERAL ...   \n",
       "3010      226718                     In Re DISTILLERS FACTORS CORP.   \n",
       "3012      228399  GULF RESEARCH & DEVELOPMENT CO. Et Al. v. LEAH...   \n",
       "3014      226291                       In Re KELLETT AIRCRAFT CORP.   \n",
       "3021      231682  AMERICAN AIRLINES, Inc. Et Al. v. FORMAN, Judg...   \n",
       "\n",
       "     docket_number                                   combined_preview  \\\n",
       "0          22-2683  PRECEDENTIAL\\n\\n      UNITED STATES COURT OF A...   \n",
       "1          23-2577  PRECEDENTIAL\\n\\n        UNITED STATES COURT OF...   \n",
       "2          24-2639  PRECEDENTIAL\\n\\n    UNITED STATES COURT OF APP...   \n",
       "3          24-1891  PRECEDENTIAL\\n\\n         UNITED STATES COURT O...   \n",
       "4          24-2500  PRECEDENTIAL\\n\\n       UNITED STATES COURT OF ...   \n",
       "...            ...                                                ...   \n",
       "2997       13285_1  McLAUGHLIN, Circuit Judge. Petitioner, Lynchbu...   \n",
       "3010       10274_1  HASTIE, Circuit Judge. This appeal is from an ...   \n",
       "3012       10488_1  *303 MARIS, Circuit Judge. This is a petition ...   \n",
       "3014       10207_1  HASTIE, Circuit Judge. This case comes before ...   \n",
       "3021       10922_1  HASTIE, Circuit Judge. These two proceedings h...   \n",
       "\n",
       "      overlap_by_substring  \n",
       "0                    False  \n",
       "1                    False  \n",
       "2                    False  \n",
       "3                    False  \n",
       "4                    False  \n",
       "...                    ...  \n",
       "2997                 False  \n",
       "3010                 False  \n",
       "3012                 False  \n",
       "3014                 False  \n",
       "3021                 False  \n",
       "\n",
       "[790 rows x 5 columns]"
      ]
     },
     "execution_count": 12,
     "metadata": {},
     "output_type": "execute_result"
    }
   ],
   "source": [
    "overlap"
   ]
  },
  {
   "cell_type": "code",
   "execution_count": null,
   "metadata": {},
   "outputs": [],
   "source": [
    "cl_cleaned = court_listener_cleaner(cl, judges, \"combined_preview\", df, \"docket_number\", \"unique_id\") # 2705 cases go in and come out\n",
    "cl_cleaned = cl_cleaned[cl_cleaned['judge id'].notna()] # 1323 cases had a judge name that could be matched to a judge id\n",
    "cl_cleaned = cl_cleaned[cl_cleaned['unique_id'].notna()] # 1915 cases had a docket number that could be matched to CAP\n",
    "cl_cleaned = cl_cleaned.drop_duplicates(subset=\"unique_id\", keep=\"first\") # we end up with 683 unique cases that have a judge id and docket number that matches CAP"
   ]
  },
  {
   "cell_type": "code",
   "execution_count": 10,
   "metadata": {},
   "outputs": [
    {
     "data": {
      "text/plain": [
       "683"
      ]
     },
     "execution_count": 10,
     "metadata": {},
     "output_type": "execute_result"
    }
   ],
   "source": [
    "len(cl_cleaned)"
   ]
  },
  {
   "cell_type": "code",
   "execution_count": 13,
   "metadata": {},
   "outputs": [
    {
     "data": {
      "text/plain": [
       "1473"
      ]
     },
     "execution_count": 13,
     "metadata": {},
     "output_type": "execute_result"
    }
   ],
   "source": [
    "683 + 790"
   ]
  },
  {
   "cell_type": "code",
   "execution_count": 16,
   "metadata": {},
   "outputs": [
    {
     "data": {
      "text/plain": [
       "51339"
      ]
     },
     "execution_count": 16,
     "metadata": {},
     "output_type": "execute_result"
    }
   ],
   "source": [
    "len(df[df['is_appellate']==1])"
   ]
  },
  {
   "cell_type": "code",
   "execution_count": 14,
   "metadata": {},
   "outputs": [
    {
     "data": {
      "text/html": [
       "<div>\n",
       "<style scoped>\n",
       "    .dataframe tbody tr th:only-of-type {\n",
       "        vertical-align: middle;\n",
       "    }\n",
       "\n",
       "    .dataframe tbody tr th {\n",
       "        vertical-align: top;\n",
       "    }\n",
       "\n",
       "    .dataframe thead th {\n",
       "        text-align: right;\n",
       "    }\n",
       "</style>\n",
       "<table border=\"1\" class=\"dataframe\">\n",
       "  <thead>\n",
       "    <tr style=\"text-align: right;\">\n",
       "      <th></th>\n",
       "      <th>name</th>\n",
       "      <th>docket_number</th>\n",
       "      <th>decision_date</th>\n",
       "      <th>court_name</th>\n",
       "      <th>jurisdiction</th>\n",
       "      <th>cite</th>\n",
       "      <th>cites_to</th>\n",
       "      <th>judges_raw</th>\n",
       "      <th>judges_clean</th>\n",
       "      <th>judges_ids</th>\n",
       "      <th>opinion_type</th>\n",
       "      <th>opinion_author_raw</th>\n",
       "      <th>opinion_author_clean</th>\n",
       "      <th>opinion_author_id</th>\n",
       "      <th>opinion_text</th>\n",
       "      <th>unique_id</th>\n",
       "      <th>is_appellate</th>\n",
       "    </tr>\n",
       "  </thead>\n",
       "  <tbody>\n",
       "    <tr>\n",
       "      <th>56306</th>\n",
       "      <td>UNITED STATES of America, Appellant, v. Cornel...</td>\n",
       "      <td>No. 14091</td>\n",
       "      <td>1964-04-10</td>\n",
       "      <td>United States Court of Appeals for the Third C...</td>\n",
       "      <td>U.S.</td>\n",
       "      <td>333 Federal Reporter 2d Series 100</td>\n",
       "      <td>213 F.Supp. 905, 46 F.Supp. 484, 65 F.Supp. 41...</td>\n",
       "      <td>None</td>\n",
       "      <td>[]</td>\n",
       "      <td>[]</td>\n",
       "      <td>majority</td>\n",
       "      <td>BIGGS, Chief Judge.</td>\n",
       "      <td>biggs</td>\n",
       "      <td>170.0</td>\n",
       "      <td>BIGGS, Chief Judge.\\nThe United States brought...</td>\n",
       "      <td>56306</td>\n",
       "      <td>1</td>\n",
       "    </tr>\n",
       "  </tbody>\n",
       "</table>\n",
       "</div>"
      ],
      "text/plain": [
       "                                                    name docket_number  \\\n",
       "56306  UNITED STATES of America, Appellant, v. Cornel...     No. 14091   \n",
       "\n",
       "      decision_date                                         court_name  \\\n",
       "56306    1964-04-10  United States Court of Appeals for the Third C...   \n",
       "\n",
       "      jurisdiction                                cite  \\\n",
       "56306         U.S.  333 Federal Reporter 2d Series 100   \n",
       "\n",
       "                                                cites_to judges_raw  \\\n",
       "56306  213 F.Supp. 905, 46 F.Supp. 484, 65 F.Supp. 41...       None   \n",
       "\n",
       "      judges_clean judges_ids opinion_type   opinion_author_raw  \\\n",
       "56306           []         []     majority  BIGGS, Chief Judge.   \n",
       "\n",
       "      opinion_author_clean  opinion_author_id  \\\n",
       "56306                biggs              170.0   \n",
       "\n",
       "                                            opinion_text unique_id  \\\n",
       "56306  BIGGS, Chief Judge.\\nThe United States brought...     56306   \n",
       "\n",
       "       is_appellate  \n",
       "56306             1  "
      ]
     },
     "execution_count": 14,
     "metadata": {},
     "output_type": "execute_result"
    }
   ],
   "source": [
    "df[df['is_appellate']==1].sample(1)"
   ]
  },
  {
   "cell_type": "code",
   "execution_count": 15,
   "metadata": {},
   "outputs": [
    {
     "name": "stdout",
     "output_type": "stream",
     "text": [
      "We were able to match 5818 out of 51339 appellate cases (11.33%)\n"
     ]
    }
   ],
   "source": [
    "appellate_ids = df[df['is_appellate'] == 1]['unique_id'].astype(str)\n",
    "matched = appellate_ids.isin(app_matches.keys()).sum()\n",
    "print(f\"We were able to match {matched} out of {len(appellate_ids)} appellate cases ({matched/len(appellate_ids):.2%})\")"
   ]
  },
  {
   "cell_type": "code",
   "execution_count": 16,
   "metadata": {},
   "outputs": [
    {
     "name": "stdout",
     "output_type": "stream",
     "text": [
      "With the court listener data we have 6501 appellate cases with outcomes.\n"
     ]
    }
   ],
   "source": [
    "print(f\"With the court listener data we have {len(cl_cleaned)+matched} appellate cases with outcomes.\")"
   ]
  },
  {
   "cell_type": "code",
   "execution_count": 17,
   "metadata": {},
   "outputs": [
    {
     "name": "stdout",
     "output_type": "stream",
     "text": [
      "There are 4026 total judges.\n",
      "There are 882 appellate judges\n",
      "There are 3277 district judges\n"
     ]
    }
   ],
   "source": [
    "print(f\"There are {len(judges['judge id'].unique())} total judges.\") # total number of judges in dataset\n",
    "\n",
    "aj = judges[judges['court type'].str.contains('Appeals|Circuit', case=False, na=False)]\n",
    "\n",
    "print(f\"There are {len(aj['judge id'].unique())} appellate judges\") # unique appellate judges\n",
    "\n",
    "dj = judges[judges['court type'].str.contains('District')]\n",
    "\n",
    "print(f\"There are {len(dj['judge id'].unique())} district judges\") # unique district judges"
   ]
  },
  {
   "cell_type": "code",
   "execution_count": 17,
   "metadata": {},
   "outputs": [],
   "source": [
    "def promotion_info_judges(judge_info):\n",
    "    \"\"\"\n",
    "    Returns a df of all judges who got promoted from district to appellate courts. Their promotion date is the earliest nomination date that they got to the appellate court. \n",
    "    \"\"\"\n",
    "    ji = judge_info.copy()\n",
    "    ji['promotion date'] = pd.NaT\n",
    "\n",
    "    aj = ji[ji['court type'].str.contains('Appeals|Circuit', case=False, na=False)]\n",
    "    dj = ji[ji['court type'].str.contains('District')]\n",
    "    pj = dj[dj['judge id'].isin(aj['judge id'])].copy()\n",
    "    pj['nomination date'] = pd.to_datetime(pj['nomination date'], errors='coerce')\n",
    "    pj = pj.sort_values(['judge id','nomination date']).drop_duplicates('judge id', keep='first')\n",
    "\n",
    "    ji['is promoted'] = ji['judge id'].isin(pj['judge id']).astype(int)\n",
    "    ji['promotion date'] = ji.apply(lambda row: pj[pj['judge id']==row['judge id']]['nomination date'].values[0] if row['is promoted'] else pd.NaT, axis=1)\n",
    "    ji_district = ji[ji['court type'].str.contains('District')]\n",
    "    ji_district = ji_district.drop_duplicates('judge id', keep='first')\n",
    "    return ji_district"
   ]
  },
  {
   "cell_type": "code",
   "execution_count": 18,
   "metadata": {},
   "outputs": [
    {
     "data": {
      "text/plain": [
       "3277"
      ]
     },
     "execution_count": 18,
     "metadata": {},
     "output_type": "execute_result"
    }
   ],
   "source": [
    "dsct_jdges = promotion_info_judges(judges) # district judges with promotion info\n",
    "len(dsct_jdges)"
   ]
  },
  {
   "cell_type": "code",
   "execution_count": 19,
   "metadata": {},
   "outputs": [
    {
     "data": {
      "text/html": [
       "<div>\n",
       "<style scoped>\n",
       "    .dataframe tbody tr th:only-of-type {\n",
       "        vertical-align: middle;\n",
       "    }\n",
       "\n",
       "    .dataframe tbody tr th {\n",
       "        vertical-align: top;\n",
       "    }\n",
       "\n",
       "    .dataframe thead th {\n",
       "        text-align: right;\n",
       "    }\n",
       "</style>\n",
       "<table border=\"1\" class=\"dataframe\">\n",
       "  <thead>\n",
       "    <tr style=\"text-align: right;\">\n",
       "      <th></th>\n",
       "      <th>judge id</th>\n",
       "      <th>last name</th>\n",
       "      <th>first name</th>\n",
       "      <th>gender</th>\n",
       "      <th>ethnicity</th>\n",
       "      <th>birth year</th>\n",
       "      <th>birth city</th>\n",
       "      <th>birth state</th>\n",
       "      <th>death year</th>\n",
       "      <th>death city</th>\n",
       "      <th>...</th>\n",
       "      <th>ayes/nays</th>\n",
       "      <th>confirmation date</th>\n",
       "      <th>commission date</th>\n",
       "      <th>school 1</th>\n",
       "      <th>degree 1</th>\n",
       "      <th>school 2</th>\n",
       "      <th>degree 2</th>\n",
       "      <th>professional career</th>\n",
       "      <th>promotion date</th>\n",
       "      <th>is promoted</th>\n",
       "    </tr>\n",
       "  </thead>\n",
       "  <tbody>\n",
       "    <tr>\n",
       "      <th>3299</th>\n",
       "      <td>13761471</td>\n",
       "      <td>sherriff</td>\n",
       "      <td>Kirk</td>\n",
       "      <td>Male</td>\n",
       "      <td>White</td>\n",
       "      <td>1968</td>\n",
       "      <td>Berkeley</td>\n",
       "      <td>CA</td>\n",
       "      <td>NaN</td>\n",
       "      <td>NaN</td>\n",
       "      <td>...</td>\n",
       "      <td>54/45</td>\n",
       "      <td>2024-01-31</td>\n",
       "      <td>2024-02-07</td>\n",
       "      <td>Columbia University</td>\n",
       "      <td>B.A.</td>\n",
       "      <td>Harvard Law School</td>\n",
       "      <td>J.D.</td>\n",
       "      <td>Private practice, New York City, 1995-1996, 19...</td>\n",
       "      <td>NaT</td>\n",
       "      <td>0</td>\n",
       "    </tr>\n",
       "  </tbody>\n",
       "</table>\n",
       "<p>1 rows × 34 columns</p>\n",
       "</div>"
      ],
      "text/plain": [
       "      judge id last name first name gender ethnicity birth year birth city  \\\n",
       "3299  13761471  sherriff       Kirk   Male     White       1968   Berkeley   \n",
       "\n",
       "     birth state  death year death city  ... ayes/nays confirmation date  \\\n",
       "3299          CA         NaN        NaN  ...     54/45        2024-01-31   \n",
       "\n",
       "     commission date             school 1 degree 1            school 2  \\\n",
       "3299      2024-02-07  Columbia University     B.A.  Harvard Law School   \n",
       "\n",
       "     degree 2                                professional career  \\\n",
       "3299     J.D.  Private practice, New York City, 1995-1996, 19...   \n",
       "\n",
       "     promotion date  is promoted  \n",
       "3299            NaT            0  \n",
       "\n",
       "[1 rows x 34 columns]"
      ]
     },
     "execution_count": 19,
     "metadata": {},
     "output_type": "execute_result"
    }
   ],
   "source": [
    "dsct_jdges.sample(1)"
   ]
  },
  {
   "cell_type": "code",
   "execution_count": 21,
   "metadata": {},
   "outputs": [
    {
     "data": {
      "text/plain": [
       "9.826060421116875"
      ]
     },
     "execution_count": 21,
     "metadata": {},
     "output_type": "execute_result"
    }
   ],
   "source": [
    "len(dsct_jdges[dsct_jdges['is promoted']==1]) / len(dsct_jdges) * 100 # proportion of district judges who got promoted"
   ]
  },
  {
   "cell_type": "code",
   "execution_count": 22,
   "metadata": {},
   "outputs": [
    {
     "data": {
      "text/plain": [
       "11.411411411411411"
      ]
     },
     "execution_count": 22,
     "metadata": {},
     "output_type": "execute_result"
    }
   ],
   "source": [
    "len(dsct_jdges[(dsct_jdges['court name'].str.contains(r\"Delaware|New Jersey|Pennsylvania|Virgin Islands\")) & (dsct_jdges['is promoted']==1)]) / len(dsct_jdges[dsct_jdges['court name'].str.contains(r\"Delaware|New Jersey|Pennsylvania|Virgin Islands\")]) * 100 # proportion of district judges in the third court who got promoted"
   ]
  },
  {
   "cell_type": "code",
   "execution_count": 23,
   "metadata": {},
   "outputs": [
    {
     "data": {
      "text/plain": [
       "38"
      ]
     },
     "execution_count": 23,
     "metadata": {},
     "output_type": "execute_result"
    }
   ],
   "source": [
    "len(dsct_jdges[(dsct_jdges['court name'].str.contains(r\"Delaware|New Jersey|Pennsylvania|Virgin Islands\")) & (dsct_jdges['is promoted']==1)])"
   ]
  },
  {
   "cell_type": "code",
   "execution_count": 24,
   "metadata": {},
   "outputs": [],
   "source": [
    "thrd_judges = dsct_jdges[dsct_jdges['court name'].str.contains(r\"Third|Delaware|New Jersey|Pennsylvania|Virgin Islands\")]"
   ]
  },
  {
   "cell_type": "markdown",
   "metadata": {},
   "source": [
    "# Computation"
   ]
  },
  {
   "cell_type": "code",
   "execution_count": 92,
   "metadata": {},
   "outputs": [],
   "source": [
    "api_path:       str = \"batch_runs/api_responses.jsonl\"\n",
    "overlap_path:   str = \"batch_runs/overlap_outputs/overlap_results.jsonl\"\n",
    "\n",
    "opinions_primary  = _read_batch_jsonl(api_path)\n",
    "opinions_overlap  = _read_batch_jsonl(overlap_path)\n",
    "opinions          = {**opinions_overlap, **opinions_primary}"
   ]
  },
  {
   "cell_type": "code",
   "execution_count": null,
   "metadata": {},
   "outputs": [],
   "source": [
    "def compute_district_overturns(\n",
    "    df:             pd.DataFrame,\n",
    "    dsct_judges:    pd.DataFrame,\n",
    "    api_path:       str = \"batch_runs/api_responses.jsonl\",\n",
    "    mapping_path:   str = \"results/appellate_matches.json\",\n",
    "    court_listener: pd.DataFrame = None,\n",
    "    overlap_path:   str = \"batch_runs/overlap_outputs/overlap_results.jsonl\",\n",
    ") -> pd.DataFrame:\n",
    "    \"\"\"\n",
    "    Compute district-level overturn counts & rates per judge.\n",
    "\n",
    "    Reads:\n",
    "      - mapping_path: JSON mapping {appellate_custom_id -> district_unique_id}\n",
    "      - api_path:     JSONL with batch responses (has custom_id + response)\n",
    "      - overlap_path: (optional) another JSONL of the same schema to merge in\n",
    "\n",
    "    Notes:\n",
    "      * Responses from api_path and overlap_path are merged and de-duped by custom_id.\n",
    "      * We only need the 'opinion' field parsed from the model text; 'affirmed' vs non-affirmed.\n",
    "\n",
    "    :param df: DataFrame of all CAP cases (district + appellate)\n",
    "    :param dsct_judges: DataFrame of district judges to compute stats for (must have 'judge id' and 'is promoted')\n",
    "    \"\"\"\n",
    "    pj                     = dsct_judges.copy()\n",
    "    dsc                    = df[df['is_appellate'] == 0].copy()\n",
    "    dsc[\"_author_id_norm\"] = dsc[\"opinion_author_id\"].map(norm_id) # turns 5.0 -> 5\n",
    "\n",
    "    by_judge_cases = (\n",
    "        dsc\n",
    "        .dropna(subset=[\"_author_id_norm\"])\n",
    "        .groupby(\"_author_id_norm\")\n",
    "        .apply(lambda g: list(g.index))\n",
    "        .to_dict()\n",
    "    ) # {judge_id: [list of district case indices]}\n",
    "\n",
    "    pj[\"_judge_id_norm\"]      = pj[\"judge id\"].map(norm_id) # turns 5.0 -> 5\n",
    "    pj[\"district_cases_list\"] = pj[\"_judge_id_norm\"].map(by_judge_cases).apply(lambda x: x if isinstance(x, list) else []) # list of case indices or empty list\n",
    "    pj[\"district cases\"]      = pj[\"district_cases_list\"].str.len().astype(int) # count of district cases\n",
    "\n",
    "    # Load the appellate -> district mapping\n",
    "    try:\n",
    "        with open(mapping_path, \"r\", encoding=\"utf-8\") as f:\n",
    "            app_to_dct = json.load(f)\n",
    "    except FileNotFoundError:\n",
    "        app_to_dct = {}\n",
    "\n",
    "    # Load the API opinions\n",
    "    opinions_primary  = _read_batch_jsonl(api_path)\n",
    "    opinions_overlap  = _read_batch_jsonl(overlap_path)\n",
    "    opinions          = {**opinions_overlap, **opinions_primary} # ^ merge strategy: keep 'opinions_primary' preference on conflict (last write wins). There shouldn't be conflicts anyway.\n",
    "\n",
    "    # ----- Build overturned district index set using mapping + opinions -----\n",
    "    overturned_district_indices: set[int] = set()\n",
    "    for cid, opinion in opinions.items():\n",
    "        if opinion and opinion != \"affirmed\":\n",
    "            if cid in app_to_dct:\n",
    "                try:\n",
    "                    overturned_district_indices.add(int(app_to_dct[cid]))\n",
    "                except Exception:\n",
    "                    pass\n",
    "\n",
    "    # Appeals coverage count (mapping-based)\n",
    "    appealed_district_cases = set(app_to_dct.values())\n",
    "    pj[\"appealed cases\"] = pj[\"district_cases_list\"].apply(\n",
    "        lambda case_list: sum(1 for cid in case_list if cid in appealed_district_cases)\n",
    "    ).astype(int)\n",
    "\n",
    "    # ===== CourtListener: add tallies to district & appealed (no extra column) =====\n",
    "    if court_listener is not None and not court_listener.empty:\n",
    "        cl = court_listener.copy()\n",
    "        cl[\"judge id\"] = pd.to_numeric(cl[\"judge id\"], errors=\"coerce\").astype(\"Int64\")\n",
    "        cl = cl.dropna(subset=[\"judge id\", \"docket_number\"])\n",
    "        cl[\"docket_number\"] = cl[\"docket_number\"].astype(str)\n",
    "\n",
    "        cl_counts = (\n",
    "            cl.groupby(\"judge id\")[\"docket_number\"]\n",
    "              .nunique()\n",
    "              .astype(int)\n",
    "        )\n",
    "\n",
    "        add_series = pj[\"judge id\"].map(cl_counts).fillna(0).astype(int)\n",
    "        pj[\"district cases\"] = (pj[\"district cases\"] + add_series).astype(int)\n",
    "        pj[\"appealed cases\"] = (pj[\"appealed cases\"] + add_series).astype(int)\n",
    "\n",
    "    # ----- Overturned (mapping-only baseline) -----\n",
    "    def _count_overturned(case_list):\n",
    "        if not case_list:\n",
    "            return 0\n",
    "        return sum(1 for cid in case_list if cid in overturned_district_indices)\n",
    "\n",
    "    pj[\"overturned_from_mapping\"] = pj[\"district_cases_list\"].apply(_count_overturned).astype(int)\n",
    "\n",
    "    # ----- CourtListener overlap augmentation (overturned) -----\n",
    "    extra_overturned_by_judge: dict[int, int] = {}\n",
    "\n",
    "    if court_listener is not None and not court_listener.empty:\n",
    "        cl2 = court_listener.dropna(subset=[\"docket_number\"]).copy()\n",
    "        cl2[\"judge id\"] = pd.to_numeric(cl2[\"judge id\"], errors=\"coerce\").astype(\"Int64\")\n",
    "        cl2 = cl2.dropna(subset=[\"judge id\"])\n",
    "        cl_dockets = cl2[\"docket_number\"].astype(str).dropna().unique().tolist()\n",
    "\n",
    "        def has_overlap(docket: str) -> bool:\n",
    "            if not isinstance(docket, str):\n",
    "                return False\n",
    "            return any(docket in cl_d or cl_d in docket for cl_d in cl_dockets)\n",
    "\n",
    "        df_local = df.copy()\n",
    "        df_local[\"__has_docket\"] = df_local[\"docket_number\"].notna()\n",
    "        df_local[\"overlap\"] = False\n",
    "        mask = df_local[\"__has_docket\"]\n",
    "        df_local.loc[mask, \"overlap\"] = df_local.loc[mask, \"docket_number\"].astype(str).apply(has_overlap)\n",
    "\n",
    "        overlap_cases = df_local[df_local[\"overlap\"] & df_local[\"unique_id\"].notna()].copy()\n",
    "        overlap_cases[\"unique_id\"] = overlap_cases[\"unique_id\"].astype(str)\n",
    "\n",
    "        cl_rows = cl2[[\"docket_number\", \"judge id\"]].copy()\n",
    "        cl_rows[\"docket_number\"] = cl_rows[\"docket_number\"].astype(str)\n",
    "\n",
    "        # Use merged 'opinions' (primary + overlap) for non-affirmed check\n",
    "        for df_docket, block in overlap_cases.groupby(\"docket_number\"):\n",
    "            df_docket = str(df_docket)\n",
    "            cl_judges = set(\n",
    "                int(j) for d, j in zip(cl_rows[\"docket_number\"], cl_rows[\"judge id\"])\n",
    "                if (df_docket in d) or (d in df_docket)\n",
    "            )\n",
    "            if not cl_judges:\n",
    "                continue\n",
    "\n",
    "            uids_here = set(block[\"unique_id\"].astype(str).unique())\n",
    "            non_aff = [u for u in uids_here if (opinions.get(u, \"\").lower() not in (\"\", \"affirmed\"))]\n",
    "            if not non_aff:\n",
    "                continue\n",
    "\n",
    "            for jid in cl_judges:\n",
    "                extra_overturned_by_judge[jid] = extra_overturned_by_judge.get(jid, 0) + 1\n",
    "\n",
    "    def _cl_extra_for_row(row) -> int:\n",
    "        jid = row.get(\"judge id\")\n",
    "        if pd.isna(jid):\n",
    "            return 0\n",
    "        return int(extra_overturned_by_judge.get(int(jid), 0))\n",
    "\n",
    "    pj[\"overturned_from_cl\"] = pj.apply(_cl_extra_for_row, axis=1).astype(int)\n",
    "\n",
    "    # ----- Combine + rates -----\n",
    "    pj[\"district_cases_overturned\"] = pj[\"overturned_from_mapping\"] + pj[\"overturned_from_cl\"]\n",
    "    pj[\"district_overturn_rate\"] = pj.apply(\n",
    "        lambda r: (r[\"district_cases_overturned\"] / r[\"district cases\"]) if r[\"district cases\"] else pd.NA,\n",
    "        axis=1\n",
    "    )\n",
    "    pj[\"overturn_rate_among_appeals\"] = pj.apply(\n",
    "        lambda r: (r[\"district_cases_overturned\"] / r[\"appealed cases\"]) if r[\"appealed cases\"] else pd.NA,\n",
    "        axis=1\n",
    "    )\n",
    "\n",
    "    pj.drop(columns=[\"_judge_id_norm\"], inplace=True)\n",
    "\n",
    "    # dtypes\n",
    "    pj[\"judge id\"]                  = pd.to_numeric(pj[\"judge id\"], errors=\"coerce\").astype(\"Int64\")\n",
    "    pj[\"district cases\"]            = pd.to_numeric(pj[\"district cases\"], errors=\"coerce\").astype(int)\n",
    "    pj[\"appealed cases\"]            = pd.to_numeric(pj[\"appealed cases\"], errors=\"coerce\").astype(int)\n",
    "    pj[\"overturned_from_mapping\"]   = pd.to_numeric(pj[\"overturned_from_mapping\"], errors=\"coerce\").astype(int)\n",
    "    pj[\"overturned_from_cl\"]        = pd.to_numeric(pj[\"overturned_from_cl\"], errors=\"coerce\").astype(int)\n",
    "    pj[\"district_cases_overturned\"] = pd.to_numeric(pj[\"district_cases_overturned\"], errors=\"coerce\").astype(int)\n",
    "\n",
    "    return pj"
   ]
  },
  {
   "cell_type": "code",
   "execution_count": 98,
   "metadata": {},
   "outputs": [],
   "source": [
    "import json\n",
    "import pandas as pd\n",
    "from typing import Dict, Optional\n",
    "\n",
    "def compute_district_overturns(\n",
    "    df:             pd.DataFrame,                          # CAP cases (district + appellate)\n",
    "    dsct_judges:    pd.DataFrame,                          # must include 'judge id' and any judge metadata\n",
    "    api_path:       str = \"batch_runs/api_responses.jsonl\",\n",
    "    mapping_path:   str = \"results/appellate_matches.json\",\n",
    "    court_listener: Optional[pd.DataFrame] = None,         # one CL dataset: each row = an appealed case for that CL judge\n",
    "    overlap_path:   str = \"batch_runs/overlap_outputs/overlap_results.jsonl\",\n",
    "    add_cl_to_district_totals: bool = False,               # set True to also add CL docket counts to 'district cases'\n",
    ") -> pd.DataFrame:\n",
    "    \"\"\"\n",
    "    Compute judge-level counts and rates:\n",
    "      - district cases (from CAP)\n",
    "      - appealed cases (CAP mapping + CourtListener rows)\n",
    "      - overturned_from_mapping (CAP mapping + API opinions)\n",
    "      - overturned_from_cl (CourtListener rows using merged opinions by unique_id, or CL's own 'opinion' text)\n",
    "      - district_cases_overturned = mapping + CL\n",
    "      - district_overturn_rate = overturned / district cases\n",
    "      - overturn_rate_among_appeals = overturned / appealed cases\n",
    "\n",
    "    Assumptions:\n",
    "      - mapping_path: {appellate_custom_id (str) -> district_unique_id (int/str that identifies the district case in df)}\n",
    "      - api_path, overlap_path: JSONL lines with fields including {\"custom_id\": \"...\", \"response\": ...} where\n",
    "        `_extract_text(response)` returns a JSON string containing an \"opinion\" field (e.g., \"affirmed\", \"reversed\", etc.)\n",
    "      - court_listener rows optionally include 'unique_id' (appellate custom_id or aligned id) and/or an 'opinion' text column\n",
    "      - A CL row is an appealed case for its 'judge id' regardless of mapping back to CAP.\n",
    "\n",
    "    Set add_cl_to_district_totals=True if you want CL to also inflate 'district cases' (previous behavior).\n",
    "    \"\"\"\n",
    "\n",
    "    # --------------------------- Small helpers ---------------------------\n",
    "    def norm_id(x):\n",
    "        if pd.isna(x):\n",
    "            return None\n",
    "        s = str(x).strip()\n",
    "        if s.endswith(\".0\"):\n",
    "            s = s[:-2]\n",
    "        try:\n",
    "            s = str(int(float(s)))\n",
    "        except Exception:\n",
    "            pass\n",
    "        return s\n",
    "\n",
    "    def _read_batch_jsonl(path: str) -> Dict[str, str]:\n",
    "        \"\"\"Return {custom_id -> opinion(lower)} from a JSONL results file.\"\"\"\n",
    "        out: Dict[str, str] = {}\n",
    "        if not path:\n",
    "            return out\n",
    "        try:\n",
    "            with open(path, \"r\", encoding=\"utf-8\") as f:\n",
    "                for line in f:\n",
    "                    if not line.strip():\n",
    "                        continue\n",
    "                    try:\n",
    "                        rec = json.loads(line)\n",
    "                    except Exception:\n",
    "                        continue\n",
    "                    if rec.get(\"error\"):\n",
    "                        continue\n",
    "                    txt = _extract_text(rec.get(\"response\", {}))\n",
    "                    if not txt:\n",
    "                        continue\n",
    "                    try:\n",
    "                        obj = json.loads(txt)\n",
    "                    except json.JSONDecodeError:\n",
    "                        continue\n",
    "                    op  = (obj.get(\"opinion\") or \"\").strip().lower()\n",
    "                    cid = str(rec.get(\"custom_id\") or \"\")\n",
    "                    if cid and op:\n",
    "                        # keep first seen for stability; later merge resolves precedence\n",
    "                        out.setdefault(cid, op)\n",
    "        except FileNotFoundError:\n",
    "            pass\n",
    "        return out\n",
    "\n",
    "    # --------------------------- Build per-judge CAP district universe ---------------------------\n",
    "    pj = dsct_judges.copy()\n",
    "\n",
    "    dsc = df[df[\"is_appellate\"] == 0].copy()\n",
    "    dsc[\"_author_id_norm\"] = dsc[\"opinion_author_id\"].map(norm_id)\n",
    "\n",
    "    by_judge_cases = (\n",
    "        dsc.dropna(subset=[\"_author_id_norm\"])\n",
    "           .groupby(\"_author_id_norm\")\n",
    "           .apply(lambda g: list(g.index))\n",
    "           .to_dict()\n",
    "    )\n",
    "    pj[\"_judge_id_norm\"]      = pj[\"judge id\"].map(norm_id)\n",
    "    pj[\"district_cases_list\"] = pj[\"_judge_id_norm\"].map(by_judge_cases).apply(lambda x: x if isinstance(x, list) else [])\n",
    "    pj[\"district cases\"]      = pj[\"district_cases_list\"].str.len().astype(int)\n",
    "\n",
    "    # --------------------------- Load mapping (appellate custom_id -> district unique_id) ---------------------------\n",
    "    try:\n",
    "        with open(mapping_path, \"r\", encoding=\"utf-8\") as f:\n",
    "            app_to_dct = json.load(f)\n",
    "    except FileNotFoundError:\n",
    "        app_to_dct = {}\n",
    "\n",
    "    # --------------------------- Load & merge model opinions ---------------------------\n",
    "    opinions_primary = _read_batch_jsonl(api_path)\n",
    "    opinions_overlap = _read_batch_jsonl(overlap_path)\n",
    "    # prefer primary on conflicts\n",
    "    opinions = {**opinions_overlap, **opinions_primary}\n",
    "\n",
    "    # --------------------------- Overturned via CAP mapping + opinions ---------------------------\n",
    "    overturned_district_indices: set = set()\n",
    "    for cid, op in opinions.items():\n",
    "        if op and op != \"affirmed\":\n",
    "            if cid in app_to_dct:\n",
    "                try:\n",
    "                    overturned_district_indices.add(int(app_to_dct[cid]))\n",
    "                except Exception:\n",
    "                    # tolerate non-int district ids\n",
    "                    overturned_district_indices.add(str(app_to_dct[cid]))\n",
    "\n",
    "    appealed_district_cases = set(app_to_dct.values())\n",
    "    pj[\"appealed cases\"] = pj[\"district_cases_list\"].apply(\n",
    "        lambda lst: sum(1 for cid in lst if cid in appealed_district_cases)\n",
    "    ).astype(int)\n",
    "\n",
    "    def _count_overturned(case_list):\n",
    "        if not case_list:\n",
    "            return 0\n",
    "        return sum(1 for cid in case_list if cid in overturned_district_indices)\n",
    "\n",
    "    pj[\"overturned_from_mapping\"] = pj[\"district_cases_list\"].apply(_count_overturned).astype(int)\n",
    "\n",
    "    # --------------------------- CourtListener as its own appealed cases ---------------------------\n",
    "    # Each CL row = 1 appealed case for that CL judge. Opinion comes from:\n",
    "    #  (1) merged opinions[unique_id] if unique_id exists; else\n",
    "    #  (2) CL's own 'opinion' text if present.\n",
    "    pj[\"overturned_from_cl\"] = 0  # initialize if not present\n",
    "\n",
    "    if court_listener is not None and not court_listener.empty:\n",
    "        cl = court_listener.copy()\n",
    "\n",
    "        # normalize judge id\n",
    "        cl[\"judge id\"] = pd.to_numeric(cl.get(\"judge id\", pd.Series(dtype=\"float\")), errors=\"coerce\").astype(\"Int64\")\n",
    "        cl = cl.dropna(subset=[\"judge id\"])\n",
    "        cl[\"judge id\"] = cl[\"judge id\"].astype(\"Int64\")\n",
    "\n",
    "        # opinion resolution per row\n",
    "        uid = cl.get(\"unique_id\", pd.Series([pd.NA]*len(cl))).astype(str)\n",
    "        cl_opinion_fallback = cl.get(\"opinion\", pd.Series([\"\"]*len(cl))).astype(str)\n",
    "\n",
    "        def resolve_opinion(i):\n",
    "            u = uid.iat[i]\n",
    "            if isinstance(u, str) and len(u) > 0:\n",
    "                op = opinions.get(u, \"\")\n",
    "                if op:\n",
    "                    return op\n",
    "            fb = cl_opinion_fallback.iat[i]\n",
    "            return fb.strip().lower() if fb else \"\"\n",
    "\n",
    "        cl[\"opinion_norm_cl\"] = [resolve_opinion(i) for i in range(len(cl))]\n",
    "\n",
    "        # +1 appealed for every CL row\n",
    "        appealed_add_cl = cl.groupby(\"judge id\").size().astype(int)\n",
    "\n",
    "        # +1 overturned_from_cl for opinion != 'affirmed'\n",
    "        non_aff_mask = (cl[\"opinion_norm_cl\"] != \"\") & (cl[\"opinion_norm_cl\"] != \"affirmed\")\n",
    "        if non_aff_mask.any():\n",
    "            overturned_add_cl = cl.loc[non_aff_mask].groupby(\"judge id\").size().astype(int)\n",
    "        else:\n",
    "            overturned_add_cl = pd.Series(dtype=int)\n",
    "\n",
    "        # apply to pj\n",
    "        pj[\"appealed cases\"] = (\n",
    "            pj[\"appealed cases\"] + pj[\"judge id\"].map(appealed_add_cl).fillna(0).astype(int)\n",
    "        ).astype(int)\n",
    "\n",
    "        pj[\"overturned_from_cl\"] = (\n",
    "            pj[\"overturned_from_cl\"] + pj[\"judge id\"].map(overturned_add_cl).fillna(0).astype(int)\n",
    "        ).astype(int)\n",
    "\n",
    "        # OPTIONAL: also add CL dockets to 'district cases' (prev behavior)\n",
    "        if add_cl_to_district_totals and (\"docket_number\" in cl.columns):\n",
    "            cl[\"docket_number\"] = cl[\"docket_number\"].astype(str)\n",
    "            cl_counts = cl.groupby(\"judge id\")[\"docket_number\"].nunique().astype(int)\n",
    "            pj[\"district cases\"] = (pj[\"district cases\"] + pj[\"judge id\"].map(cl_counts).fillna(0).astype(int)).astype(int)\n",
    "\n",
    "    # --------------------------- Combine & rates ---------------------------\n",
    "    pj[\"district_cases_overturned\"] = pj[\"overturned_from_mapping\"] + pj[\"overturned_from_cl\"]\n",
    "\n",
    "    pj[\"district_overturn_rate\"] = pj.apply(\n",
    "        lambda r: (r[\"district_cases_overturned\"] / r[\"district cases\"]) if r[\"district cases\"] else pd.NA,\n",
    "        axis=1\n",
    "    )\n",
    "    pj[\"overturn_rate_among_appeals\"] = pj.apply(\n",
    "        lambda r: (r[\"district_cases_overturned\"] / r[\"appealed cases\"]) if r[\"appealed cases\"] else pd.NA,\n",
    "        axis=1\n",
    "    )\n",
    "\n",
    "    # tidy types and drop helper\n",
    "    pj.drop(columns=[\"_judge_id_norm\"], inplace=True)\n",
    "    pj[\"judge id\"]                  = pd.to_numeric(pj[\"judge id\"], errors=\"coerce\").astype(\"Int64\")\n",
    "    pj[\"district cases\"]            = pd.to_numeric(pj[\"district cases\"], errors=\"coerce\").astype(int)\n",
    "    pj[\"appealed cases\"]            = pd.to_numeric(pj[\"appealed cases\"], errors=\"coerce\").astype(int)\n",
    "    pj[\"overturned_from_mapping\"]   = pd.to_numeric(pj[\"overturned_from_mapping\"], errors=\"coerce\").astype(int)\n",
    "    pj[\"overturned_from_cl\"]        = pd.to_numeric(pj[\"overturned_from_cl\"], errors=\"coerce\").astype(int)\n",
    "    pj[\"district_cases_overturned\"] = pd.to_numeric(pj[\"district_cases_overturned\"], errors=\"coerce\").astype(int)\n",
    "\n",
    "    return pj"
   ]
  },
  {
   "cell_type": "code",
   "execution_count": 99,
   "metadata": {},
   "outputs": [
    {
     "name": "stderr",
     "output_type": "stream",
     "text": [
      "/var/folders/tk/kx3xr9b97r34q5h9zb1mq2x80000gn/T/ipykernel_77916/1765006753.py:88: FutureWarning: DataFrameGroupBy.apply operated on the grouping columns. This behavior is deprecated, and in a future version of pandas the grouping columns will be excluded from the operation. Either pass `include_groups=False` to exclude the groupings or explicitly select the grouping columns after groupby to silence this warning.\n",
      "  .apply(lambda g: list(g.index))\n"
     ]
    }
   ],
   "source": [
    "overturns = compute_district_overturns(df, thrd_judges, court_listener=cl_cleaned)"
   ]
  },
  {
   "cell_type": "code",
   "execution_count": 127,
   "metadata": {},
   "outputs": [
    {
     "data": {
      "text/plain": [
       "279"
      ]
     },
     "execution_count": 127,
     "metadata": {},
     "output_type": "execute_result"
    }
   ],
   "source": [
    "len(thrd_judges) \n",
    "len(overturns[overturns['district cases']>0])"
   ]
  },
  {
   "cell_type": "markdown",
   "metadata": {},
   "source": [
    "# Inference"
   ]
  },
  {
   "cell_type": "code",
   "execution_count": 101,
   "metadata": {},
   "outputs": [],
   "source": [
    "bt10 = overturns[overturns['appealed cases']>=10]"
   ]
  },
  {
   "cell_type": "code",
   "execution_count": 102,
   "metadata": {},
   "outputs": [
    {
     "data": {
      "text/html": [
       "<div>\n",
       "<style scoped>\n",
       "    .dataframe tbody tr th:only-of-type {\n",
       "        vertical-align: middle;\n",
       "    }\n",
       "\n",
       "    .dataframe tbody tr th {\n",
       "        vertical-align: top;\n",
       "    }\n",
       "\n",
       "    .dataframe thead th {\n",
       "        text-align: right;\n",
       "    }\n",
       "</style>\n",
       "<table border=\"1\" class=\"dataframe\">\n",
       "  <thead>\n",
       "    <tr style=\"text-align: right;\">\n",
       "      <th></th>\n",
       "      <th>judge id</th>\n",
       "      <th>last name</th>\n",
       "      <th>first name</th>\n",
       "      <th>gender</th>\n",
       "      <th>ethnicity</th>\n",
       "      <th>birth year</th>\n",
       "      <th>birth city</th>\n",
       "      <th>birth state</th>\n",
       "      <th>death year</th>\n",
       "      <th>death city</th>\n",
       "      <th>...</th>\n",
       "      <th>promotion date</th>\n",
       "      <th>is promoted</th>\n",
       "      <th>district_cases_list</th>\n",
       "      <th>district cases</th>\n",
       "      <th>appealed cases</th>\n",
       "      <th>overturned_from_mapping</th>\n",
       "      <th>overturned_from_cl</th>\n",
       "      <th>district_cases_overturned</th>\n",
       "      <th>district_overturn_rate</th>\n",
       "      <th>overturn_rate_among_appeals</th>\n",
       "    </tr>\n",
       "  </thead>\n",
       "  <tbody>\n",
       "    <tr>\n",
       "      <th>1881</th>\n",
       "      <td>2735</td>\n",
       "      <td>kauffman</td>\n",
       "      <td>Bruce</td>\n",
       "      <td>Male</td>\n",
       "      <td>White</td>\n",
       "      <td>1934</td>\n",
       "      <td>Atlantic City</td>\n",
       "      <td>NJ</td>\n",
       "      <td>2021.0</td>\n",
       "      <td>Bala Cynwyd</td>\n",
       "      <td>...</td>\n",
       "      <td>NaT</td>\n",
       "      <td>0</td>\n",
       "      <td>[4838, 5500, 36210, 36254, 36575, 36635, 36665...</td>\n",
       "      <td>41</td>\n",
       "      <td>10</td>\n",
       "      <td>2</td>\n",
       "      <td>4</td>\n",
       "      <td>6</td>\n",
       "      <td>0.146341</td>\n",
       "      <td>0.6</td>\n",
       "    </tr>\n",
       "    <tr>\n",
       "      <th>2204</th>\n",
       "      <td>1440</td>\n",
       "      <td>luongo</td>\n",
       "      <td>Alfred</td>\n",
       "      <td>Male</td>\n",
       "      <td>White</td>\n",
       "      <td>1920</td>\n",
       "      <td>Philadelphia</td>\n",
       "      <td>PA</td>\n",
       "      <td>1986.0</td>\n",
       "      <td></td>\n",
       "      <td>...</td>\n",
       "      <td>NaT</td>\n",
       "      <td>0</td>\n",
       "      <td>[570, 1063, 1182, 1265, 16962, 17001, 17013, 1...</td>\n",
       "      <td>508</td>\n",
       "      <td>49</td>\n",
       "      <td>19</td>\n",
       "      <td>0</td>\n",
       "      <td>19</td>\n",
       "      <td>0.037402</td>\n",
       "      <td>0.387755</td>\n",
       "    </tr>\n",
       "    <tr>\n",
       "      <th>886</th>\n",
       "      <td>577</td>\n",
       "      <td>davis</td>\n",
       "      <td>John</td>\n",
       "      <td>Male</td>\n",
       "      <td>White</td>\n",
       "      <td>1906</td>\n",
       "      <td>Shenandoah</td>\n",
       "      <td>PA</td>\n",
       "      <td>1984.0</td>\n",
       "      <td></td>\n",
       "      <td>...</td>\n",
       "      <td>NaT</td>\n",
       "      <td>0</td>\n",
       "      <td>[189, 17998, 18047, 18081, 18111, 18119, 18139...</td>\n",
       "      <td>171</td>\n",
       "      <td>18</td>\n",
       "      <td>7</td>\n",
       "      <td>0</td>\n",
       "      <td>7</td>\n",
       "      <td>0.040936</td>\n",
       "      <td>0.388889</td>\n",
       "    </tr>\n",
       "  </tbody>\n",
       "</table>\n",
       "<p>3 rows × 42 columns</p>\n",
       "</div>"
      ],
      "text/plain": [
       "      judge id last name first name gender ethnicity birth year  \\\n",
       "1881      2735  kauffman      Bruce   Male     White       1934   \n",
       "2204      1440    luongo     Alfred   Male     White       1920   \n",
       "886        577     davis       John   Male     White       1906   \n",
       "\n",
       "         birth city birth state  death year   death city  ... promotion date  \\\n",
       "1881  Atlantic City          NJ      2021.0  Bala Cynwyd  ...            NaT   \n",
       "2204   Philadelphia          PA      1986.0               ...            NaT   \n",
       "886      Shenandoah          PA      1984.0               ...            NaT   \n",
       "\n",
       "     is promoted                                district_cases_list  \\\n",
       "1881           0  [4838, 5500, 36210, 36254, 36575, 36635, 36665...   \n",
       "2204           0  [570, 1063, 1182, 1265, 16962, 17001, 17013, 1...   \n",
       "886            0  [189, 17998, 18047, 18081, 18111, 18119, 18139...   \n",
       "\n",
       "     district cases appealed cases overturned_from_mapping overturned_from_cl  \\\n",
       "1881             41             10                       2                  4   \n",
       "2204            508             49                      19                  0   \n",
       "886             171             18                       7                  0   \n",
       "\n",
       "     district_cases_overturned district_overturn_rate  \\\n",
       "1881                         6               0.146341   \n",
       "2204                        19               0.037402   \n",
       "886                          7               0.040936   \n",
       "\n",
       "      overturn_rate_among_appeals  \n",
       "1881                          0.6  \n",
       "2204                     0.387755  \n",
       "886                      0.388889  \n",
       "\n",
       "[3 rows x 42 columns]"
      ]
     },
     "execution_count": 102,
     "metadata": {},
     "output_type": "execute_result"
    }
   ],
   "source": [
    "bt10.sample(3)"
   ]
  },
  {
   "cell_type": "code",
   "execution_count": 103,
   "metadata": {},
   "outputs": [
    {
     "data": {
      "text/plain": [
       "11.976047904191617"
      ]
     },
     "execution_count": 103,
     "metadata": {},
     "output_type": "execute_result"
    }
   ],
   "source": [
    "len(bt10[bt10['is promoted']==1]) / len(bt10) * 100 # proportion of district judges with at least 10 appealed cases who got promoted"
   ]
  },
  {
   "cell_type": "markdown",
   "metadata": {},
   "source": [
    "We have a little bit more data of cases on the judges who did not get promoted (+- 10% more cases on average)"
   ]
  },
  {
   "cell_type": "code",
   "execution_count": 104,
   "metadata": {},
   "outputs": [
    {
     "data": {
      "text/plain": [
       "is promoted\n",
       "0    229.938776\n",
       "1    212.650000\n",
       "Name: district cases, dtype: float64"
      ]
     },
     "execution_count": 104,
     "metadata": {},
     "output_type": "execute_result"
    }
   ],
   "source": [
    "bt10.groupby(\"is promoted\")[\"district cases\"].mean()"
   ]
  },
  {
   "cell_type": "code",
   "execution_count": 105,
   "metadata": {},
   "outputs": [
    {
     "data": {
      "text/plain": [
       "is promoted\n",
       "0     0.44474\n",
       "1    0.362871\n",
       "Name: overturn_rate_among_appeals, dtype: object"
      ]
     },
     "execution_count": 105,
     "metadata": {},
     "output_type": "execute_result"
    }
   ],
   "source": [
    "bt10.groupby(\"is promoted\")[\"overturn_rate_among_appeals\"].mean()"
   ]
  },
  {
   "cell_type": "code",
   "execution_count": 106,
   "metadata": {},
   "outputs": [
    {
     "name": "stdout",
     "output_type": "stream",
     "text": [
      "Average effect of being promoted: -0.08186940077508231\n"
     ]
    }
   ],
   "source": [
    "promoted_mean = bt10[bt10[\"is promoted\"] == 1][\"overturn_rate_among_appeals\"].mean()\n",
    "not_promoted_mean = bt10[bt10[\"is promoted\"] == 0][\"overturn_rate_among_appeals\"].mean()\n",
    "effect = promoted_mean - not_promoted_mean\n",
    "print(\"Average effect of being promoted:\", effect)"
   ]
  },
  {
   "cell_type": "code",
   "execution_count": 132,
   "metadata": {},
   "outputs": [
    {
     "data": {
      "text/plain": [
       "416    Republican\n",
       "Name: party of appointing president, dtype: object"
      ]
     },
     "execution_count": 132,
     "metadata": {},
     "output_type": "execute_result"
    }
   ],
   "source": [
    "bt10.sample(1)['party of appointing president']"
   ]
  },
  {
   "cell_type": "code",
   "execution_count": 140,
   "metadata": {},
   "outputs": [
    {
     "data": {
      "text/plain": [
       "Index(['name', 'docket_number', 'decision_date', 'court_name', 'jurisdiction',\n",
       "       'cite', 'cites_to', 'judges_raw', 'judges_clean', 'judges_ids',\n",
       "       'opinion_type', 'opinion_author_raw', 'opinion_author_clean',\n",
       "       'opinion_author_id', 'opinion_text', 'unique_id', 'is_appellate'],\n",
       "      dtype='object')"
      ]
     },
     "execution_count": 140,
     "metadata": {},
     "output_type": "execute_result"
    }
   ],
   "source": [
    "df.columns"
   ]
  },
  {
   "cell_type": "code",
   "execution_count": 139,
   "metadata": {},
   "outputs": [
    {
     "data": {
      "text/plain": [
       "Index(['judge id', 'last name', 'first name', 'gender', 'ethnicity',\n",
       "       'birth year', 'birth city', 'birth state', 'death year', 'death city',\n",
       "       'death state', 'court name', 'court type', 'appointment title',\n",
       "       'appointing president', 'party of appointing president',\n",
       "       'nomination date', 'termination date', 'termination', 'aba rating',\n",
       "       'hearing date', 'judiciary committee action', 'committee action date',\n",
       "       'senate vote type', 'ayes/nays', 'confirmation date', 'commission date',\n",
       "       'school 1', 'degree 1', 'school 2', 'degree 2', 'professional career'],\n",
       "      dtype='object')"
      ]
     },
     "execution_count": 139,
     "metadata": {},
     "output_type": "execute_result"
    }
   ],
   "source": [
    "judges.columns"
   ]
  },
  {
   "cell_type": "code",
   "execution_count": 138,
   "metadata": {},
   "outputs": [
    {
     "name": "stdout",
     "output_type": "stream",
     "text": [
      "Warning: Maximum number of iterations has been exceeded.\n",
      "         Current function value: 0.336083\n",
      "         Iterations: 100\n",
      "=== Logistic Regression: is promoted ~ overturn_rate_among_appeals + gender + ethnicity ===\n",
      "                           Logit Regression Results                           \n",
      "==============================================================================\n",
      "Dep. Variable:            is promoted   No. Observations:                  167\n",
      "Model:                          Logit   Df Residuals:                      158\n",
      "Method:                           MLE   Df Model:                            8\n",
      "Date:                Mon, 06 Oct 2025   Pseudo R-squ.:                 0.08286\n",
      "Time:                        09:12:55   Log-Likelihood:                -56.126\n",
      "converged:                      False   LL-Null:                       -61.197\n",
      "Covariance Type:            nonrobust   LLR p-value:                    0.2552\n",
      "============================================================================================================\n",
      "                                               coef    std err          z      P>|z|      [0.025      0.975]\n",
      "------------------------------------------------------------------------------------------------------------\n",
      "const                                        0.2912      1.637      0.178      0.859      -2.916       3.499\n",
      "overturn_rate_among_appeals                 -4.2394      2.045     -2.073      0.038      -8.247      -0.232\n",
      "gender_Male                                  0.4444      1.116      0.398      0.690      -1.742       2.631\n",
      "ethnicity_Hispanic                         -33.3856   1.52e+07  -2.19e-06      1.000   -2.98e+07    2.98e+07\n",
      "ethnicity_White                             -0.9742      0.949     -1.027      0.304      -2.834       0.885\n",
      "aba rating_2.0                              -0.4183      0.774     -0.541      0.589      -1.935       1.098\n",
      "aba rating_3.0                             -31.2542    2.3e+07  -1.36e-06      1.000   -4.51e+07    4.51e+07\n",
      "aba rating_Unknown                           0.2726      0.722      0.378      0.706      -1.142       1.687\n",
      "party of appointing president_Republican    -0.0967      0.512     -0.189      0.850      -1.101       0.907\n",
      "============================================================================================================\n",
      "\n",
      "=== OLS Regression: is promoted ~ overturn_rate_among_appeals + gender + ethnicity ===\n",
      "                            OLS Regression Results                            \n",
      "==============================================================================\n",
      "Dep. Variable:            is promoted   R-squared:                       0.055\n",
      "Model:                            OLS   Adj. R-squared:                  0.007\n",
      "Method:                 Least Squares   F-statistic:                     1.150\n",
      "Date:                Mon, 06 Oct 2025   Prob (F-statistic):              0.333\n",
      "Time:                        09:12:55   Log-Likelihood:                -44.378\n",
      "No. Observations:                 167   AIC:                             106.8\n",
      "Df Residuals:                     158   BIC:                             134.8\n",
      "Df Model:                           8                                         \n",
      "Covariance Type:            nonrobust                                         \n",
      "============================================================================================================\n",
      "                                               coef    std err          t      P>|t|      [0.025      0.975]\n",
      "------------------------------------------------------------------------------------------------------------\n",
      "const                                        0.3716      0.162      2.294      0.023       0.052       0.692\n",
      "overturn_rate_among_appeals                 -0.3663      0.179     -2.046      0.042      -0.720      -0.013\n",
      "gender_Male                                  0.0408      0.089      0.457      0.648      -0.135       0.217\n",
      "ethnicity_Hispanic                          -0.2631      0.224     -1.177      0.241      -0.705       0.178\n",
      "ethnicity_White                             -0.1259      0.117     -1.079      0.282      -0.356       0.105\n",
      "aba rating_2.0                              -0.0337      0.069     -0.491      0.624      -0.169       0.102\n",
      "aba rating_3.0                              -0.0751      0.330     -0.228      0.820      -0.726       0.576\n",
      "aba rating_Unknown                           0.0332      0.074      0.449      0.654      -0.113       0.179\n",
      "party of appointing president_Republican    -0.0115      0.053     -0.215      0.830      -0.117       0.094\n",
      "==============================================================================\n",
      "Omnibus:                       79.050   Durbin-Watson:                   1.973\n",
      "Prob(Omnibus):                  0.000   Jarque-Bera (JB):              198.419\n",
      "Skew:                           2.158   Prob(JB):                     8.20e-44\n",
      "Kurtosis:                       6.145   Cond. No.                         24.9\n",
      "==============================================================================\n",
      "\n",
      "Notes:\n",
      "[1] Standard Errors assume that the covariance matrix of the errors is correctly specified.\n"
     ]
    },
    {
     "name": "stderr",
     "output_type": "stream",
     "text": [
      "/Users/ilyadavidson/Stanford_Internship/judge_project/env/lib/python3.11/site-packages/statsmodels/base/model.py:607: ConvergenceWarning: Maximum Likelihood optimization failed to converge. Check mle_retvals\n",
      "  warnings.warn(\"Maximum Likelihood optimization failed to \"\n"
     ]
    }
   ],
   "source": [
    "# Regression analysis with gender and ethnicity\n",
    "y = bt10[\"is promoted\"].astype(float)  \n",
    "X = pd.DataFrame({\n",
    "    \"overturn_rate_among_appeals\": pd.to_numeric(bt10[\"overturn_rate_among_appeals\"], errors=\"coerce\"),\n",
    "    \"gender\": bt10[\"gender\"].fillna(\"Unknown\").astype(\"category\"),\n",
    "    \"ethnicity\": bt10[\"ethnicity\"].fillna(\"Unknown\").astype(\"category\"),\n",
    "    \"aba rating\": bt10[\"aba rating\"].fillna(\"Unknown\").astype(\"category\"),\n",
    "    \"party of appointing president\": bt10[\"party of appointing president\"].fillna(\"Unknown\").astype(\"category\"),\n",
    "})\n",
    "\n",
    "X = pd.get_dummies(X, columns=[\"gender\", \"ethnicity\", \"aba rating\", \"party of appointing president\"], drop_first=True, dtype=float)\n",
    "\n",
    "mask = ~(y.isna() | X.isna().any(axis=1))\n",
    "y_clean = y.loc[mask]\n",
    "X_clean = X.loc[mask]\n",
    "\n",
    "X_clean = sm.add_constant(X_clean, has_constant=\"add\")\n",
    "\n",
    "logit_model = sm.Logit(y_clean, X_clean).fit(maxiter=100)\n",
    "print(\"=== Logistic Regression: is promoted ~ overturn_rate_among_appeals + gender + ethnicity ===\")\n",
    "print(logit_model.summary())\n",
    "\n",
    "ols_model = sm.OLS(y_clean, X_clean).fit(maxiter=100)\n",
    "print(\"\\n=== OLS Regression: is promoted ~ overturn_rate_among_appeals + gender + ethnicity ===\")\n",
    "print(ols_model.summary())"
   ]
  },
  {
   "cell_type": "code",
   "execution_count": 110,
   "metadata": {},
   "outputs": [
    {
     "name": "stdout",
     "output_type": "stream",
     "text": [
      "Optimization terminated successfully.\n",
      "         Current function value: 0.349861\n",
      "         Iterations 7\n",
      "                           Logit Regression Results                           \n",
      "==============================================================================\n",
      "Dep. Variable:            is promoted   No. Observations:                  167\n",
      "Model:                          Logit   Df Residuals:                      165\n",
      "Method:                           MLE   Df Model:                            1\n",
      "Date:                Sun, 05 Oct 2025   Pseudo R-squ.:                 0.04526\n",
      "Time:                        17:48:15   Log-Likelihood:                -58.427\n",
      "converged:                       True   LL-Null:                       -61.197\n",
      "Covariance Type:            nonrobust   LLR p-value:                   0.01859\n",
      "===============================================================================================\n",
      "                                  coef    std err          z      P>|z|      [0.025      0.975]\n",
      "-----------------------------------------------------------------------------------------------\n",
      "const                          -0.3660      0.723     -0.506      0.613      -1.783       1.051\n",
      "overturn_rate_among_appeals    -4.0524      1.829     -2.216      0.027      -7.637      -0.468\n",
      "===============================================================================================\n",
      "        Logit Marginal Effects       \n",
      "=====================================\n",
      "Dep. Variable:            is promoted\n",
      "Method:                          dydx\n",
      "At:                           overall\n",
      "===============================================================================================\n",
      "                                 dy/dx    std err          z      P>|z|      [0.025      0.975]\n",
      "-----------------------------------------------------------------------------------------------\n",
      "overturn_rate_among_appeals    -0.4130      0.189     -2.190      0.029      -0.783      -0.043\n",
      "===============================================================================================\n",
      "                            OLS Regression Results                            \n",
      "==============================================================================\n",
      "Dep. Variable:            is promoted   R-squared:                       0.031\n",
      "Model:                            OLS   Adj. R-squared:                  0.025\n",
      "Method:                 Least Squares   F-statistic:                     5.201\n",
      "Date:                Sun, 05 Oct 2025   Prob (F-statistic):             0.0239\n",
      "Time:                        17:48:15   Log-Likelihood:                -46.511\n",
      "No. Observations:                 167   AIC:                             97.02\n",
      "Df Residuals:                     165   BIC:                             103.3\n",
      "Df Model:                           1                                         \n",
      "Covariance Type:            nonrobust                                         \n",
      "===============================================================================================\n",
      "                                  coef    std err          t      P>|t|      [0.025      0.975]\n",
      "-----------------------------------------------------------------------------------------------\n",
      "const                           0.2821      0.075      3.741      0.000       0.133       0.431\n",
      "overturn_rate_among_appeals    -0.3733      0.164     -2.281      0.024      -0.696      -0.050\n",
      "==============================================================================\n",
      "Omnibus:                       81.744   Durbin-Watson:                   1.949\n",
      "Prob(Omnibus):                  0.000   Jarque-Bera (JB):              210.863\n",
      "Skew:                           2.228   Prob(JB):                     1.63e-46\n",
      "Kurtosis:                       6.234   Cond. No.                         7.85\n",
      "==============================================================================\n",
      "\n",
      "Notes:\n",
      "[1] Standard Errors assume that the covariance matrix of the errors is correctly specified.\n"
     ]
    }
   ],
   "source": [
    "# Simple regression analysis\n",
    "y = bt10[\"is promoted\"].astype(int)\n",
    "X = bt10[\"overturn_rate_among_appeals\"].astype(float)\n",
    "X = sm.add_constant(X) \n",
    "\n",
    "logit_model = sm.Logit(y, X).fit()\n",
    "mfx_ame = logit_model.get_margeff(at='overall', method='dydx')  # AME\n",
    "ols_model = sm.OLS(y, X).fit()\n",
    "\n",
    "print(logit_model.summary())\n",
    "print(mfx_ame.summary())\n",
    "print(ols_model.summary())"
   ]
  },
  {
   "cell_type": "markdown",
   "metadata": {},
   "source": [
    "For OLS: For a 1.0 (100 percentage-point) increase in overturn_rate_among_appeals, the predicted probability of being promoted decreases by 0.4155 (≈ 41.6 percentage points).\n",
    "Say a judge’s overturn rate goes from: 0.2 → 0.3 (a 10 percentage-point increase). Then the predicted probability of promotion changes by:\n",
    "ΔP = -0.4155 * (0.3 - 0.2) = -0.04155. That’s about a 4.2 percentage-point drop in the probability of promotion.\n",
    "\n",
    "This model however can predict probabilities below 0 or above 1. The logistic regression is often preferred for binary outcomes because it constrains probabilities between 0–1 and models odds nonlinearly.\n",
    "\n",
    "For the logit with the marginal effects one, on average, across all judges, a 1.0 (100 percentage-point) increase in overturn rate lowers the probability of promotion by 0.4675, or about 47 percentage points.\n"
   ]
  },
  {
   "cell_type": "code",
   "execution_count": 60,
   "metadata": {},
   "outputs": [
    {
     "name": "stdout",
     "output_type": "stream",
     "text": [
      "Optimization terminated successfully.\n",
      "         Current function value: 0.595694\n",
      "         Iterations 7\n",
      "                           Logit Regression Results                           \n",
      "==============================================================================\n",
      "Dep. Variable:          high_overturn   No. Observations:                  167\n",
      "Model:                          Logit   Df Residuals:                      165\n",
      "Method:                           MLE   Df Model:                            1\n",
      "Date:                Sun, 05 Oct 2025   Pseudo R-squ.:                 0.04669\n",
      "Time:                        17:24:28   Log-Likelihood:                -99.481\n",
      "converged:                       True   LL-Null:                       -104.35\n",
      "Covariance Type:            nonrobust   LLR p-value:                  0.001799\n",
      "===============================================================================\n",
      "                  coef    std err          z      P>|z|      [0.025      0.975]\n",
      "-------------------------------------------------------------------------------\n",
      "const          -0.6026      0.173     -3.493      0.000      -0.941      -0.265\n",
      "is promoted    -2.3418      1.040     -2.251      0.024      -4.381      -0.303\n",
      "===============================================================================\n"
     ]
    },
    {
     "name": "stderr",
     "output_type": "stream",
     "text": [
      "/var/folders/tk/kx3xr9b97r34q5h9zb1mq2x80000gn/T/ipykernel_77916/3799989266.py:1: SettingWithCopyWarning: \n",
      "A value is trying to be set on a copy of a slice from a DataFrame.\n",
      "Try using .loc[row_indexer,col_indexer] = value instead\n",
      "\n",
      "See the caveats in the documentation: https://pandas.pydata.org/pandas-docs/stable/user_guide/indexing.html#returning-a-view-versus-a-copy\n",
      "  bt10[\"high_overturn\"] = (bt10[\"overturn_rate_among_appeals\"] >  0.5).astype(int) # the average\n"
     ]
    }
   ],
   "source": [
    "bt10[\"high_overturn\"] = (bt10[\"overturn_rate_among_appeals\"] >  0.5).astype(int) # the average\n",
    "X = bt10[\"is promoted\"].astype(float)\n",
    "X = sm.add_constant(X)  # add intercept\n",
    "y = bt10[\"high_overturn\"]\n",
    "\n",
    "# Logistic regression\n",
    "logit_model = sm.Logit(y, X).fit()\n",
    "print(logit_model.summary())"
   ]
  },
  {
   "cell_type": "code",
   "execution_count": 49,
   "metadata": {},
   "outputs": [
    {
     "data": {
      "image/png": "[encoded data removed]",
      "text/plain": [
       "<Figure size 1200x500 with 2 Axes>"
      ]
     },
     "metadata": {},
     "output_type": "display_data"
    }
   ],
   "source": [
    "import numpy as np\n",
    "import pandas as pd\n",
    "import matplotlib.pyplot as plt\n",
    "import statsmodels.api as sm\n",
    "\n",
    "# Use your DataFrame here (with 'is_promoted' and 'overturn_rate_among_appeals')\n",
    "data = bt10.copy()\n",
    "\n",
    "# Fit logistic model\n",
    "y = bt10[\"is promoted\"].astype(int)\n",
    "X = bt10[\"overturn_rate_among_appeals\"].astype(float)\n",
    "X = sm.add_constant(X) \n",
    "logit_mod = sm.Logit(y, X).fit(disp=False)\n",
    "\n",
    "# Create smooth range of overturn rates\n",
    "x_range = np.linspace(data[\"overturn_rate_among_appeals\"].min(),\n",
    "                      data[\"overturn_rate_among_appeals\"].max(), 200)\n",
    "\n",
    "# Predicted probabilities\n",
    "X_pred = sm.add_constant(x_range)\n",
    "y_pred = logit_mod.predict(X_pred)\n",
    "\n",
    "# Marginal effects (dy/dx = β1 * p * (1 - p))\n",
    "b0, b1 = logit_mod.params[\"const\"], logit_mod.params[\"overturn_rate_among_appeals\"]\n",
    "p = 1 / (1 + np.exp(-(b0 + b1 * x_range)))\n",
    "marginal_effects = b1 * p * (1 - p)\n",
    "\n",
    "# --- Plot setup ---\n",
    "fig, axes = plt.subplots(1, 2, figsize=(12, 5))\n",
    "\n",
    "# 1️⃣ Predicted probability of promotion\n",
    "axes[0].scatter(data[\"overturn_rate_among_appeals\"], data[\"is promoted\"],\n",
    "                alpha=0.4, label=\"Judges (actual)\", color=\"gray\")\n",
    "axes[0].plot(x_range, y_pred, color=\"red\", linewidth=2, label=\"Predicted (logit fit)\")\n",
    "axes[0].set_xlabel(\"Overturn rate among appeals\")\n",
    "axes[0].set_ylabel(\"Predicted probability of promotion\")\n",
    "axes[0].set_title(\"Predicted Promotion Probability vs. Overturn Rate\")\n",
    "axes[0].legend()\n",
    "axes[0].grid(True, alpha=0.3)\n",
    "\n",
    "# 2️⃣ Marginal effects (derivative curve)\n",
    "axes[1].plot(x_range, marginal_effects, color=\"blue\", linewidth=2)\n",
    "axes[1].axhline(0, color=\"black\", linestyle=\"--\", linewidth=1)\n",
    "axes[1].set_xlabel(\"Overturn rate among appeals\")\n",
    "axes[1].set_ylabel(\"Marginal effect (ΔP/Δx)\")\n",
    "axes[1].set_title(\"Marginal Effect of Overturn Rate on Promotion Probability\")\n",
    "axes[1].grid(True, alpha=0.3)\n",
    "\n",
    "plt.tight_layout()\n",
    "plt.show()"
   ]
  },
  {
   "cell_type": "code",
   "execution_count": 61,
   "metadata": {},
   "outputs": [
    {
     "data": {
      "text/html": [
       "<div>\n",
       "<style scoped>\n",
       "    .dataframe tbody tr th:only-of-type {\n",
       "        vertical-align: middle;\n",
       "    }\n",
       "\n",
       "    .dataframe tbody tr th {\n",
       "        vertical-align: top;\n",
       "    }\n",
       "\n",
       "    .dataframe thead th {\n",
       "        text-align: right;\n",
       "    }\n",
       "</style>\n",
       "<table border=\"1\" class=\"dataframe\">\n",
       "  <thead>\n",
       "    <tr style=\"text-align: right;\">\n",
       "      <th></th>\n",
       "      <th>opinion</th>\n",
       "      <th>case_type</th>\n",
       "      <th>error_category</th>\n",
       "      <th>petitioner_type</th>\n",
       "      <th>respondent_type</th>\n",
       "      <th>politicality_score</th>\n",
       "      <th>profile_level</th>\n",
       "      <th>lower_judge_first</th>\n",
       "      <th>lower_judge_last</th>\n",
       "      <th>custom_id</th>\n",
       "    </tr>\n",
       "  </thead>\n",
       "  <tbody>\n",
       "    <tr>\n",
       "      <th>41172</th>\n",
       "      <td>affirmed</td>\n",
       "      <td>criminal</td>\n",
       "      <td>insufficient evidence</td>\n",
       "      <td>male</td>\n",
       "      <td>other</td>\n",
       "      <td>1.0</td>\n",
       "      <td>low</td>\n",
       "      <td>None</td>\n",
       "      <td>None</td>\n",
       "      <td>100430</td>\n",
       "    </tr>\n",
       "  </tbody>\n",
       "</table>\n",
       "</div>"
      ],
      "text/plain": [
       "        opinion case_type         error_category petitioner_type  \\\n",
       "41172  affirmed  criminal  insufficient evidence            male   \n",
       "\n",
       "      respondent_type  politicality_score profile_level lower_judge_first  \\\n",
       "41172           other                 1.0           low              None   \n",
       "\n",
       "      lower_judge_last custom_id  \n",
       "41172             None    100430  "
      ]
     },
     "execution_count": 61,
     "metadata": {},
     "output_type": "execute_result"
    }
   ],
   "source": [
    "case_results = load_case_results()\n",
    "case_results.sample(1)"
   ]
  },
  {
   "cell_type": "code",
   "execution_count": 62,
   "metadata": {},
   "outputs": [
    {
     "data": {
      "image/png": "[encoded data removed]",
      "text/plain": [
       "<Figure size 1200x800 with 4 Axes>"
      ]
     },
     "metadata": {},
     "output_type": "display_data"
    }
   ],
   "source": [
    "plot_distributions(case_results, [\"case_type\", \"opinion\", \"error_category\", \"politicality_score\"])"
   ]
  },
  {
   "cell_type": "code",
   "execution_count": 401,
   "metadata": {},
   "outputs": [
    {
     "name": "stderr",
     "output_type": "stream",
     "text": [
      "/var/folders/tk/kx3xr9b97r34q5h9zb1mq2x80000gn/T/ipykernel_67124/2251497098.py:1: FutureWarning: DataFrameGroupBy.apply operated on the grouping columns. This behavior is deprecated, and in a future version of pandas the grouping columns will be excluded from the operation. Either pass `include_groups=False` to exclude the groupings or explicitly select the grouping columns after groupby to silence this warning.\n",
      "  case_results.groupby('case_type').apply(\n"
     ]
    },
    {
     "data": {
      "text/plain": [
       "case_type\n",
       "bankruptcy    62.975098\n",
       "civil         66.692186\n",
       "contract      59.271978\n",
       "criminal      75.139726\n",
       "labor         57.838389\n",
       "other         82.829978\n",
       "tort          60.686728\n",
       "dtype: float64"
      ]
     },
     "execution_count": 401,
     "metadata": {},
     "output_type": "execute_result"
    }
   ],
   "source": [
    "case_results.groupby('case_type').apply(\n",
    "    lambda group: len(group[group['opinion'] == 'affirmed']) / len(group) * 100\n",
    ")"
   ]
  },
  {
   "cell_type": "code",
   "execution_count": 402,
   "metadata": {},
   "outputs": [
    {
     "data": {
      "text/plain": [
       "68.16844893745497"
      ]
     },
     "execution_count": 402,
     "metadata": {},
     "output_type": "execute_result"
    }
   ],
   "source": [
    "len(case_results[case_results['opinion']=='affirmed']) / len(case_results) * 100"
   ]
  },
  {
   "cell_type": "code",
   "execution_count": 403,
   "metadata": {},
   "outputs": [
    {
     "name": "stderr",
     "output_type": "stream",
     "text": [
      "/var/folders/tk/kx3xr9b97r34q5h9zb1mq2x80000gn/T/ipykernel_67124/1331619923.py:5: SettingWithCopyWarning: \n",
      "A value is trying to be set on a copy of a slice from a DataFrame.\n",
      "Try using .loc[row_indexer,col_indexer] = value instead\n",
      "\n",
      "See the caveats in the documentation: https://pandas.pydata.org/pandas-docs/stable/user_guide/indexing.html#returning-a-view-versus-a-copy\n",
      "  bt10[\"appealed cases\"] = bt10[\"appealed cases\"].astype(int)\n",
      "/var/folders/tk/kx3xr9b97r34q5h9zb1mq2x80000gn/T/ipykernel_67124/1331619923.py:6: SettingWithCopyWarning: \n",
      "A value is trying to be set on a copy of a slice from a DataFrame.\n",
      "Try using .loc[row_indexer,col_indexer] = value instead\n",
      "\n",
      "See the caveats in the documentation: https://pandas.pydata.org/pandas-docs/stable/user_guide/indexing.html#returning-a-view-versus-a-copy\n",
      "  bt10[\"district_overturn_rate\"] = bt10[\"district_overturn_rate\"].astype(float)\n"
     ]
    },
    {
     "data": {
      "image/png": "[encoded data removed]",
      "text/plain": [
       "<Figure size 800x600 with 1 Axes>"
      ]
     },
     "metadata": {},
     "output_type": "display_data"
    }
   ],
   "source": [
    "import matplotlib.pyplot as plt\n",
    "\n",
    "# Example: use your DataFrame \"bt10\"\n",
    "# Ensure numeric types\n",
    "bt10[\"appealed cases\"] = bt10[\"appealed cases\"].astype(int)\n",
    "bt10[\"district_overturn_rate\"] = bt10[\"district_overturn_rate\"].astype(float)\n",
    "\n",
    "plt.figure(figsize=(8,6))\n",
    "plt.scatter(\n",
    "    bt10[\"appealed cases\"], \n",
    "    bt10[\"district_overturn_rate\"], \n",
    "    alpha=0.6, edgecolor=\"k\"\n",
    ")\n",
    "\n",
    "plt.xlabel(\"Number of District Cases that went on to Appellate\")\n",
    "plt.ylabel(\"District Overturn Rate\")\n",
    "plt.title(\"Scatterplot of Appeals vs. Overturn Rate per Judge\")\n",
    "plt.grid(True, linestyle=\"--\", alpha=0.7)\n",
    "\n",
    "plt.show()"
   ]
  },
  {
   "cell_type": "code",
   "execution_count": 404,
   "metadata": {},
   "outputs": [
    {
     "name": "stdout",
     "output_type": "stream",
     "text": [
      "Appealed cases per judge — summary stats\n",
      "count    167.000000\n",
      "mean      25.119760\n",
      "std       17.959728\n",
      "min       10.000000\n",
      "10%       11.000000\n",
      "25%       13.000000\n",
      "50%       20.000000\n",
      "75%       30.000000\n",
      "90%       47.800000\n",
      "95%       53.700000\n",
      "max      134.000000\n",
      "Name: appealed_cases, dtype: float64\n",
      "Coefficient of Variation (std/mean): 0.715\n",
      "\n",
      "Top 10 judges by appealed cases:\n",
      "      judge id  appealed_cases  district cases\n",
      "1969      1287             134             629\n",
      "3071      2032              97            1133\n",
      "1370       896              92             624\n",
      "950        616              78             590\n",
      "2267      1484              74             529\n",
      "2424      1597              73             749\n",
      "3802      2527              56             709\n",
      "1184       773              54             388\n",
      "2678      1763              54             245\n",
      "3208      2118              53             347\n",
      "\n",
      "Bottom 10 judges by appealed cases (with at least 1 district case):\n",
      "      judge id  appealed_cases  district cases\n",
      "6            4              10             183\n",
      "3296      2176              10              87\n",
      "2915      3061              10             107\n",
      "2749      1813              10             183\n",
      "741        486              10             196\n",
      "3847      2564              10              57\n",
      "3399      2242              10              38\n",
      "1881      2735              10              48\n",
      "3939      2627              10              89\n",
      "2369      1552              11             120\n",
      "\n",
      "Goodness-of-fit to a single common appeal rate (binomial with exposure):\n",
      "- p_hat (overall appeal rate): 0.1086\n",
      "- Pearson χ²: 1027.20 on 166 df  ->  p = 0\n",
      "⇒ Variation across judges is larger than expected if all shared the same appeal rate.\n",
      "\n",
      "Judges with largest positive residuals (more appeals than expected given exposure):\n",
      "      judge id  appealed_cases  district cases  std_resid\n",
      "1969      1287             134             629   7.948096\n",
      "3215      2959              25              70   6.310089\n",
      "1023       661              38             144   5.654664\n",
      "3909      2605              42             168   5.561465\n",
      "612       2880              15              37   5.478452\n",
      "2678      1763              54             245   5.310578\n",
      "2431      2958              24              80   5.194839\n",
      "2040      1335              28             103   5.027392\n",
      "1535      2732              13              36   4.597449\n",
      "62          37              27             106   4.564979\n",
      "\n",
      "Judges with most negative residuals (fewer appeals than expected):\n",
      "      judge id  appealed_cases  district cases  std_resid\n",
      "416        269              17             557  -5.591764\n",
      "2063      1348              23             579  -5.029147\n",
      "2883      1904              20             518  -4.833766\n",
      "962        624              17             454  -4.600645\n",
      "1735      1140              19             437  -4.130967\n",
      "3220      2124              24             483  -3.928725\n",
      "1848      1212              47             749  -3.807694\n",
      "3073      2033              40             655  -3.691350\n",
      "3318      2191              24             425  -3.261086\n",
      "2638      1736              24             414  -3.125967\n"
     ]
    }
   ],
   "source": [
    "import json\n",
    "import numpy as np\n",
    "import pandas as pd\n",
    "from scipy.stats import chi2\n",
    "\n",
    "# Inputs you already have:\n",
    "# df: cases DataFrame with index = district case id; columns include is_appellate, opinion_author_id\n",
    "# pj: judges DataFrame with \"judge id\" and a column \"district_cases_list\" (list of district case ids per judge)\n",
    "# mapping_path: JSON mapping {<appellate_id>: <district_index>}\n",
    "\n",
    "mapping_path = \"results/appellate_matches.json\"\n",
    "\n",
    "# 1) Build the set of *district* case ids that were appealed\n",
    "with open(mapping_path, \"r\", encoding=\"utf-8\") as f:\n",
    "    app_to_dct = json.load(f)\n",
    "\n",
    "appealed_district_ids = set()\n",
    "for k, v in app_to_dct.items():\n",
    "    try:\n",
    "        appealed_district_ids.add(int(v))\n",
    "    except Exception:\n",
    "        continue\n",
    "\n",
    "# 2) Per judge: count how many of their district cases were appealed (regardless of outcome)\n",
    "def count_appealed(case_list):\n",
    "    if not isinstance(case_list, (list, tuple)):\n",
    "        return 0\n",
    "    return sum(1 for cid in case_list if cid in appealed_district_ids)\n",
    "\n",
    "pj = bt10.copy()\n",
    "pj[\"appealed_cases\"] = pj[\"appealed cases\"]\n",
    "\n",
    "# 3) Quick dispersion view: mean/median/std/CV and a few quantiles\n",
    "summary = pj[\"appealed_cases\"].describe(percentiles=[0.1,0.25,0.5,0.75,0.9,0.95])\n",
    "cv = (pj[\"appealed_cases\"].std(ddof=1) / max(summary[\"mean\"], 1e-9))\n",
    "print(\"Appealed cases per judge — summary stats\")\n",
    "print(summary)\n",
    "print(f\"Coefficient of Variation (std/mean): {cv:.3f}\")\n",
    "\n",
    "# (Optional) peek at a few extremes\n",
    "print(\"\\nTop 10 judges by appealed cases:\")\n",
    "print(pj[[\"judge id\",\"appealed_cases\",\"district cases\"]].sort_values(\"appealed_cases\", ascending=False).head(10))\n",
    "\n",
    "print(\"\\nBottom 10 judges by appealed cases (with at least 1 district case):\")\n",
    "print(pj[pj[\"district cases\"]>0][[\"judge id\",\"appealed_cases\",\"district cases\"]]\n",
    "      .sort_values(\"appealed_cases\", ascending=True).head(10))\n",
    "\n",
    "# 4) Are judges getting “about the same” number appealed given exposure?\n",
    "#    Test: assume a common appeal probability p across judges; compare observed vs expected with Pearson χ².\n",
    "#    Only include judges with at least 1 district case to avoid division issues.\n",
    "g = pj[pj[\"district cases\"] > 0].copy()\n",
    "n = g[\"district cases\"].to_numpy(dtype=float)       # exposures (trials)\n",
    "obs = g[\"appealed_cases\"].to_numpy(dtype=float)\n",
    "\n",
    "# Global appeal rate p-hat:\n",
    "p_hat = obs.sum() / n.sum() if n.sum() > 0 else np.nan\n",
    "exp = n * p_hat\n",
    "\n",
    "# Filter out judges whose expected count is ~0 (no power there)\n",
    "mask = exp > 0\n",
    "obs2 = obs[mask]\n",
    "exp2 = exp[mask]\n",
    "k = obs2.size\n",
    "\n",
    "if k >= 2 and np.isfinite(p_hat):\n",
    "    chi2_stat = ((obs2 - exp2)**2 / exp2).sum()\n",
    "    # degrees of freedom ~ (k - 1) because we estimated a single parameter p_hat\n",
    "    df_ = max(k - 1, 1)\n",
    "    p_value = 1 - chi2.cdf(chi2_stat, df_)\n",
    "    print(\"\\nGoodness-of-fit to a single common appeal rate (binomial with exposure):\")\n",
    "    print(f\"- p_hat (overall appeal rate): {p_hat:.4f}\")\n",
    "    print(f\"- Pearson χ²: {chi2_stat:.2f} on {df_} df  ->  p = {p_value:.4g}\")\n",
    "    if p_value < 0.05:\n",
    "        print(\"⇒ Variation across judges is larger than expected if all shared the same appeal rate.\")\n",
    "    else:\n",
    "        print(\"⇒ No strong evidence of heterogeneity; appealed counts look consistent with a common rate.\")\n",
    "else:\n",
    "    print(\"\\nNot enough data to run the goodness-of-fit test (check exposures).\")\n",
    "\n",
    "# 5) (Optional) Standardized residuals per judge to see who’s high/low relative to exposure\n",
    "if k >= 2 and np.isfinite(p_hat):\n",
    "    # Avoid division by zero\n",
    "    denom = np.sqrt(np.maximum(exp, 1e-12))\n",
    "    g[\"std_resid\"] = (obs - exp) / denom\n",
    "    print(\"\\nJudges with largest positive residuals (more appeals than expected given exposure):\")\n",
    "    print(g[[\"judge id\",\"appealed_cases\",\"district cases\",\"std_resid\"]]\n",
    "          .sort_values(\"std_resid\", ascending=False).head(10))\n",
    "    print(\"\\nJudges with most negative residuals (fewer appeals than expected):\")\n",
    "    print(g[[\"judge id\",\"appealed_cases\",\"district cases\",\"std_resid\"]]\n",
    "          .sort_values(\"std_resid\", ascending=True).head(10))"
   ]
  },
  {
   "cell_type": "code",
   "execution_count": 405,
   "metadata": {},
   "outputs": [
    {
     "data": {
      "image/png": "[encoded data removed]",
      "text/plain": [
       "<Figure size 640x480 with 1 Axes>"
      ]
     },
     "metadata": {},
     "output_type": "display_data"
    }
   ],
   "source": [
    "import matplotlib.pyplot as plt\n",
    "\n",
    "plt.hist(pj[\"appealed_cases\"], bins=30, edgecolor=\"black\")\n",
    "plt.xlabel(\"# appealed cases per judge\")\n",
    "plt.ylabel(\"Number of judges\")\n",
    "plt.title(\"Distribution of appealed cases across judges\")\n",
    "plt.show()"
   ]
  },
  {
   "cell_type": "code",
   "execution_count": 160,
   "metadata": {},
   "outputs": [
    {
     "data": {
      "image/png": "[encoded data removed]",
      "text/plain": [
       "<Figure size 640x480 with 1 Axes>"
      ]
     },
     "metadata": {},
     "output_type": "display_data"
    }
   ],
   "source": [
    "plt.scatter(pj[\"district cases\"], pj[\"appealed_cases\"], alpha=0.6)\n",
    "plt.xlabel(\"Total district cases per judge\")\n",
    "plt.ylabel(\"Appealed cases per judge\")\n",
    "plt.title(\"Appealed vs total cases (per judge)\")\n",
    "plt.show()"
   ]
  },
  {
   "cell_type": "code",
   "execution_count": 123,
   "metadata": {},
   "outputs": [
    {
     "data": {
      "text/plain": [
       "4674"
      ]
     },
     "execution_count": 123,
     "metadata": {},
     "output_type": "execute_result"
    }
   ],
   "source": [
    "len(judges)"
   ]
  },
  {
   "cell_type": "code",
   "execution_count": null,
   "metadata": {},
   "outputs": [],
   "source": [
    "# def cl_cleaner(cl_data: pd.DataFrame, judges_info: pd.DataFrame) -> pd.DataFrame:\n",
    "#     out = cl_data.copy()\n",
    "#     out[\"district judge\"]       = judge_name_to_id(out, judges_info, \"last name\", text_col=\"combined_preview\")\n",
    "#     out[\"district judge id\"]    = judge_name_to_id(out, judges_info, \"id\",        text_col=\"combined_preview\")\n",
    "#     out[\"unique_id\"]            = \"CL_\" + out[\"id\"].astype(str)\n",
    "#     # out.rename(columns={\"case_name\":\"name\",\"combined_preview\":\"opinion_text\"}, inplace=True)\n",
    "#     cols = [\"unique_id\",\"name\",\"combined_preview\",\"docket_number\",\"district judge\",\"district judge id\",\"decision_date\"]\n",
    "#     return out.loc[out[\"district judge id\"].notna(), cols].reset_index(drop=True)\n",
    "\n",
    "# cl_clean['opinion_text'].sample(1).iloc[0]"
   ]
  }
 ],
 "metadata": {
  "kernelspec": {
   "display_name": "env",
   "language": "python",
   "name": "python3"
  },
  "language_info": {
   "codemirror_mode": {
    "name": "ipython",
    "version": 3
   },
   "file_extension": ".py",
   "mimetype": "text/x-python",
   "name": "python",
   "nbconvert_exporter": "python",
   "pygments_lexer": "ipython3",
   "version": "3.11.9"
  }
 },
 "nbformat": 4,
 "nbformat_minor": 2
}
